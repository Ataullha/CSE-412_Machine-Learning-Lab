{
 "cells": [
  {
   "cell_type": "code",
   "execution_count": 1,
   "id": "fa2f460c",
   "metadata": {
    "_cell_guid": "b1076dfc-b9ad-4769-8c92-a6c4dae69d19",
    "_uuid": "8f2839f25d086af736a60e9eeb907d3b93b6e0e5",
    "execution": {
     "iopub.execute_input": "2025-08-04T15:49:32.768855Z",
     "iopub.status.busy": "2025-08-04T15:49:32.768062Z",
     "iopub.status.idle": "2025-08-04T15:49:32.775334Z",
     "shell.execute_reply": "2025-08-04T15:49:32.773749Z"
    },
    "papermill": {
     "duration": 0.021103,
     "end_time": "2025-08-04T15:49:32.777717",
     "exception": false,
     "start_time": "2025-08-04T15:49:32.756614",
     "status": "completed"
    },
    "tags": []
   },
   "outputs": [],
   "source": [
    "# BoW"
   ]
  },
  {
   "cell_type": "code",
   "execution_count": 2,
   "id": "714c28f6",
   "metadata": {
    "execution": {
     "iopub.execute_input": "2025-08-04T15:49:32.799313Z",
     "iopub.status.busy": "2025-08-04T15:49:32.798718Z",
     "iopub.status.idle": "2025-08-04T15:49:32.810047Z",
     "shell.execute_reply": "2025-08-04T15:49:32.808846Z"
    },
    "papermill": {
     "duration": 0.02354,
     "end_time": "2025-08-04T15:49:32.812074",
     "exception": false,
     "start_time": "2025-08-04T15:49:32.788534",
     "status": "completed"
    },
    "tags": []
   },
   "outputs": [],
   "source": [
    "documents = [\n",
    "    \"I eat mango\",\n",
    "    \"i love mango.\"\n",
    "]"
   ]
  },
  {
   "cell_type": "code",
   "execution_count": 3,
   "id": "10262ea0",
   "metadata": {
    "execution": {
     "iopub.execute_input": "2025-08-04T15:49:32.827354Z",
     "iopub.status.busy": "2025-08-04T15:49:32.826141Z",
     "iopub.status.idle": "2025-08-04T15:49:32.833236Z",
     "shell.execute_reply": "2025-08-04T15:49:32.831631Z"
    },
    "papermill": {
     "duration": 0.016529,
     "end_time": "2025-08-04T15:49:32.835235",
     "exception": false,
     "start_time": "2025-08-04T15:49:32.818706",
     "status": "completed"
    },
    "tags": []
   },
   "outputs": [
    {
     "name": "stdout",
     "output_type": "stream",
     "text": [
      "['i eat mango', 'i love mango.']\n"
     ]
    }
   ],
   "source": [
    "lower_case_documents = []\n",
    "\n",
    "for i in documents:\n",
    "    # print(i)\n",
    "    lower_case_documents.append(i.lower())\n",
    "print(lower_case_documents)"
   ]
  },
  {
   "cell_type": "code",
   "execution_count": 4,
   "id": "93a0afe4",
   "metadata": {
    "execution": {
     "iopub.execute_input": "2025-08-04T15:49:32.851023Z",
     "iopub.status.busy": "2025-08-04T15:49:32.850492Z",
     "iopub.status.idle": "2025-08-04T15:49:32.859451Z",
     "shell.execute_reply": "2025-08-04T15:49:32.858014Z"
    },
    "papermill": {
     "duration": 0.019925,
     "end_time": "2025-08-04T15:49:32.861749",
     "exception": false,
     "start_time": "2025-08-04T15:49:32.841824",
     "status": "completed"
    },
    "tags": []
   },
   "outputs": [
    {
     "data": {
      "text/plain": [
       "'!\"#$%&\\'()*+,-./:;<=>?@[\\\\]^_`{|}~'"
      ]
     },
     "execution_count": 4,
     "metadata": {},
     "output_type": "execute_result"
    }
   ],
   "source": [
    "import string\n",
    "string.punctuation"
   ]
  },
  {
   "cell_type": "code",
   "execution_count": 5,
   "id": "3a85faed",
   "metadata": {
    "execution": {
     "iopub.execute_input": "2025-08-04T15:49:32.878710Z",
     "iopub.status.busy": "2025-08-04T15:49:32.878387Z",
     "iopub.status.idle": "2025-08-04T15:49:32.886416Z",
     "shell.execute_reply": "2025-08-04T15:49:32.885433Z"
    },
    "papermill": {
     "duration": 0.018356,
     "end_time": "2025-08-04T15:49:32.888518",
     "exception": false,
     "start_time": "2025-08-04T15:49:32.870162",
     "status": "completed"
    },
    "tags": []
   },
   "outputs": [
    {
     "data": {
      "text/plain": [
       "['i eat mango', 'i love mango']"
      ]
     },
     "execution_count": 5,
     "metadata": {},
     "output_type": "execute_result"
    }
   ],
   "source": [
    "punctuation_removed_documents = []\n",
    "\n",
    "for i in lower_case_documents:\n",
    "    s = ''\n",
    "    for j in i:\n",
    "        if j not in string.punctuation:\n",
    "            s = s + j\n",
    "    # print(s)\n",
    "    punctuation_removed_documents.append(s)\n",
    "\n",
    "punctuation_removed_documents"
   ]
  },
  {
   "cell_type": "code",
   "execution_count": 6,
   "id": "dc2622a1",
   "metadata": {
    "execution": {
     "iopub.execute_input": "2025-08-04T15:49:32.912552Z",
     "iopub.status.busy": "2025-08-04T15:49:32.912082Z",
     "iopub.status.idle": "2025-08-04T15:49:32.920880Z",
     "shell.execute_reply": "2025-08-04T15:49:32.919816Z"
    },
    "papermill": {
     "duration": 0.023183,
     "end_time": "2025-08-04T15:49:32.922713",
     "exception": false,
     "start_time": "2025-08-04T15:49:32.899530",
     "status": "completed"
    },
    "tags": []
   },
   "outputs": [
    {
     "data": {
      "text/plain": [
       "[['i', 'eat', 'mango'], ['i', 'love', 'mango']]"
      ]
     },
     "execution_count": 6,
     "metadata": {},
     "output_type": "execute_result"
    }
   ],
   "source": [
    "preprocessed_documents = []\n",
    "\n",
    "for i in punctuation_removed_documents:\n",
    "    preprocessed_documents.append(i.split(' '))\n",
    "\n",
    "preprocessed_documents"
   ]
  },
  {
   "cell_type": "code",
   "execution_count": 7,
   "id": "3877affd",
   "metadata": {
    "execution": {
     "iopub.execute_input": "2025-08-04T15:49:32.939014Z",
     "iopub.status.busy": "2025-08-04T15:49:32.938725Z",
     "iopub.status.idle": "2025-08-04T15:49:32.943047Z",
     "shell.execute_reply": "2025-08-04T15:49:32.942044Z"
    },
    "papermill": {
     "duration": 0.013728,
     "end_time": "2025-08-04T15:49:32.944690",
     "exception": false,
     "start_time": "2025-08-04T15:49:32.930962",
     "status": "completed"
    },
    "tags": []
   },
   "outputs": [],
   "source": [
    "# ... map"
   ]
  },
  {
   "cell_type": "code",
   "execution_count": 8,
   "id": "a630dbe2",
   "metadata": {
    "execution": {
     "iopub.execute_input": "2025-08-04T15:49:32.961025Z",
     "iopub.status.busy": "2025-08-04T15:49:32.960718Z",
     "iopub.status.idle": "2025-08-04T15:49:32.965242Z",
     "shell.execute_reply": "2025-08-04T15:49:32.964264Z"
    },
    "papermill": {
     "duration": 0.014863,
     "end_time": "2025-08-04T15:49:32.966921",
     "exception": false,
     "start_time": "2025-08-04T15:49:32.952058",
     "status": "completed"
    },
    "tags": []
   },
   "outputs": [],
   "source": [
    "# BoW Using Library ..."
   ]
  },
  {
   "cell_type": "code",
   "execution_count": 9,
   "id": "4d8aa8ca",
   "metadata": {
    "execution": {
     "iopub.execute_input": "2025-08-04T15:49:32.982024Z",
     "iopub.status.busy": "2025-08-04T15:49:32.981107Z",
     "iopub.status.idle": "2025-08-04T15:49:35.026360Z",
     "shell.execute_reply": "2025-08-04T15:49:35.024747Z"
    },
    "papermill": {
     "duration": 2.056275,
     "end_time": "2025-08-04T15:49:35.029896",
     "exception": false,
     "start_time": "2025-08-04T15:49:32.973621",
     "status": "completed"
    },
    "tags": []
   },
   "outputs": [
    {
     "data": {
      "text/plain": [
       "array([[1, 0, 1],\n",
       "       [0, 1, 1]])"
      ]
     },
     "execution_count": 9,
     "metadata": {},
     "output_type": "execute_result"
    }
   ],
   "source": [
    "from sklearn.feature_extraction.text import CountVectorizer\n",
    "count_vector = CountVectorizer()\n",
    "count_vector.fit_transform(documents).toarray()"
   ]
  },
  {
   "cell_type": "code",
   "execution_count": 10,
   "id": "8003ac80",
   "metadata": {
    "execution": {
     "iopub.execute_input": "2025-08-04T15:49:35.049189Z",
     "iopub.status.busy": "2025-08-04T15:49:35.048480Z",
     "iopub.status.idle": "2025-08-04T15:49:35.057776Z",
     "shell.execute_reply": "2025-08-04T15:49:35.056297Z"
    },
    "papermill": {
     "duration": 0.021356,
     "end_time": "2025-08-04T15:49:35.059773",
     "exception": false,
     "start_time": "2025-08-04T15:49:35.038417",
     "status": "completed"
    },
    "tags": []
   },
   "outputs": [
    {
     "data": {
      "text/plain": [
       "array(['eat', 'love', 'mango'], dtype=object)"
      ]
     },
     "execution_count": 10,
     "metadata": {},
     "output_type": "execute_result"
    }
   ],
   "source": [
    "# stopwords are commonly used words that have no value in NLP (I, a, on ... )\n",
    "\n",
    "count_vector.get_feature_names_out()"
   ]
  },
  {
   "cell_type": "code",
   "execution_count": 11,
   "id": "6e5046df",
   "metadata": {
    "execution": {
     "iopub.execute_input": "2025-08-04T15:49:35.078108Z",
     "iopub.status.busy": "2025-08-04T15:49:35.077696Z",
     "iopub.status.idle": "2025-08-04T15:49:37.861458Z",
     "shell.execute_reply": "2025-08-04T15:49:37.860112Z"
    },
    "papermill": {
     "duration": 2.79524,
     "end_time": "2025-08-04T15:49:37.863735",
     "exception": false,
     "start_time": "2025-08-04T15:49:35.068495",
     "status": "completed"
    },
    "tags": []
   },
   "outputs": [
    {
     "data": {
      "text/html": [
       "<div>\n",
       "<style scoped>\n",
       "    .dataframe tbody tr th:only-of-type {\n",
       "        vertical-align: middle;\n",
       "    }\n",
       "\n",
       "    .dataframe tbody tr th {\n",
       "        vertical-align: top;\n",
       "    }\n",
       "\n",
       "    .dataframe thead th {\n",
       "        text-align: right;\n",
       "    }\n",
       "</style>\n",
       "<table border=\"1\" class=\"dataframe\">\n",
       "  <thead>\n",
       "    <tr style=\"text-align: right;\">\n",
       "      <th></th>\n",
       "      <th>eat</th>\n",
       "      <th>love</th>\n",
       "      <th>mango</th>\n",
       "    </tr>\n",
       "  </thead>\n",
       "  <tbody>\n",
       "    <tr>\n",
       "      <th>0</th>\n",
       "      <td>1</td>\n",
       "      <td>0</td>\n",
       "      <td>1</td>\n",
       "    </tr>\n",
       "    <tr>\n",
       "      <th>1</th>\n",
       "      <td>0</td>\n",
       "      <td>1</td>\n",
       "      <td>1</td>\n",
       "    </tr>\n",
       "  </tbody>\n",
       "</table>\n",
       "</div>"
      ],
      "text/plain": [
       "   eat  love  mango\n",
       "0    1     0      1\n",
       "1    0     1      1"
      ]
     },
     "execution_count": 11,
     "metadata": {},
     "output_type": "execute_result"
    }
   ],
   "source": [
    "# Pandas Dataframe ..\n",
    "\n",
    "import pandas as pd\n",
    "\n",
    "df = pd.DataFrame(count_vector.fit_transform(documents).toarray(), columns=count_vector.get_feature_names_out())\n",
    "\n",
    "df.head()"
   ]
  },
  {
   "cell_type": "code",
   "execution_count": 12,
   "id": "15033613",
   "metadata": {
    "execution": {
     "iopub.execute_input": "2025-08-04T15:49:37.882130Z",
     "iopub.status.busy": "2025-08-04T15:49:37.881080Z",
     "iopub.status.idle": "2025-08-04T15:49:37.938830Z",
     "shell.execute_reply": "2025-08-04T15:49:37.937523Z"
    },
    "papermill": {
     "duration": 0.070047,
     "end_time": "2025-08-04T15:49:37.941500",
     "exception": false,
     "start_time": "2025-08-04T15:49:37.871453",
     "status": "completed"
    },
    "tags": []
   },
   "outputs": [
    {
     "data": {
      "text/html": [
       "<div>\n",
       "<style scoped>\n",
       "    .dataframe tbody tr th:only-of-type {\n",
       "        vertical-align: middle;\n",
       "    }\n",
       "\n",
       "    .dataframe tbody tr th {\n",
       "        vertical-align: top;\n",
       "    }\n",
       "\n",
       "    .dataframe thead th {\n",
       "        text-align: right;\n",
       "    }\n",
       "</style>\n",
       "<table border=\"1\" class=\"dataframe\">\n",
       "  <thead>\n",
       "    <tr style=\"text-align: right;\">\n",
       "      <th></th>\n",
       "      <th>v1</th>\n",
       "      <th>v2</th>\n",
       "      <th>Unnamed: 2</th>\n",
       "      <th>Unnamed: 3</th>\n",
       "      <th>Unnamed: 4</th>\n",
       "    </tr>\n",
       "  </thead>\n",
       "  <tbody>\n",
       "    <tr>\n",
       "      <th>0</th>\n",
       "      <td>ham</td>\n",
       "      <td>Go until jurong point, crazy.. Available only ...</td>\n",
       "      <td>NaN</td>\n",
       "      <td>NaN</td>\n",
       "      <td>NaN</td>\n",
       "    </tr>\n",
       "    <tr>\n",
       "      <th>1</th>\n",
       "      <td>ham</td>\n",
       "      <td>Ok lar... Joking wif u oni...</td>\n",
       "      <td>NaN</td>\n",
       "      <td>NaN</td>\n",
       "      <td>NaN</td>\n",
       "    </tr>\n",
       "    <tr>\n",
       "      <th>2</th>\n",
       "      <td>spam</td>\n",
       "      <td>Free entry in 2 a wkly comp to win FA Cup fina...</td>\n",
       "      <td>NaN</td>\n",
       "      <td>NaN</td>\n",
       "      <td>NaN</td>\n",
       "    </tr>\n",
       "    <tr>\n",
       "      <th>3</th>\n",
       "      <td>ham</td>\n",
       "      <td>U dun say so early hor... U c already then say...</td>\n",
       "      <td>NaN</td>\n",
       "      <td>NaN</td>\n",
       "      <td>NaN</td>\n",
       "    </tr>\n",
       "    <tr>\n",
       "      <th>4</th>\n",
       "      <td>ham</td>\n",
       "      <td>Nah I don't think he goes to usf, he lives aro...</td>\n",
       "      <td>NaN</td>\n",
       "      <td>NaN</td>\n",
       "      <td>NaN</td>\n",
       "    </tr>\n",
       "  </tbody>\n",
       "</table>\n",
       "</div>"
      ],
      "text/plain": [
       "     v1                                                 v2 Unnamed: 2  \\\n",
       "0   ham  Go until jurong point, crazy.. Available only ...        NaN   \n",
       "1   ham                      Ok lar... Joking wif u oni...        NaN   \n",
       "2  spam  Free entry in 2 a wkly comp to win FA Cup fina...        NaN   \n",
       "3   ham  U dun say so early hor... U c already then say...        NaN   \n",
       "4   ham  Nah I don't think he goes to usf, he lives aro...        NaN   \n",
       "\n",
       "  Unnamed: 3 Unnamed: 4  \n",
       "0        NaN        NaN  \n",
       "1        NaN        NaN  \n",
       "2        NaN        NaN  \n",
       "3        NaN        NaN  \n",
       "4        NaN        NaN  "
      ]
     },
     "execution_count": 12,
     "metadata": {},
     "output_type": "execute_result"
    }
   ],
   "source": [
    "# https://saturncloud.io/blog/a-list-of-pandas-readcsv-encoding-options/\n",
    "\n",
    "df = pd.read_csv('/kaggle/input/sms-spam-collection-dataset/spam.csv', encoding='latin1')\n",
    "df.head()"
   ]
  },
  {
   "cell_type": "code",
   "execution_count": 13,
   "id": "1b5a6c67",
   "metadata": {
    "execution": {
     "iopub.execute_input": "2025-08-04T15:49:37.960580Z",
     "iopub.status.busy": "2025-08-04T15:49:37.959435Z",
     "iopub.status.idle": "2025-08-04T15:49:37.989544Z",
     "shell.execute_reply": "2025-08-04T15:49:37.988239Z"
    },
    "papermill": {
     "duration": 0.042865,
     "end_time": "2025-08-04T15:49:37.992033",
     "exception": false,
     "start_time": "2025-08-04T15:49:37.949168",
     "status": "completed"
    },
    "tags": []
   },
   "outputs": [
    {
     "name": "stdout",
     "output_type": "stream",
     "text": [
      "<class 'pandas.core.frame.DataFrame'>\n",
      "RangeIndex: 5572 entries, 0 to 5571\n",
      "Data columns (total 5 columns):\n",
      " #   Column      Non-Null Count  Dtype \n",
      "---  ------      --------------  ----- \n",
      " 0   v1          5572 non-null   object\n",
      " 1   v2          5572 non-null   object\n",
      " 2   Unnamed: 2  50 non-null     object\n",
      " 3   Unnamed: 3  12 non-null     object\n",
      " 4   Unnamed: 4  6 non-null      object\n",
      "dtypes: object(5)\n",
      "memory usage: 217.8+ KB\n"
     ]
    }
   ],
   "source": [
    "df.info()"
   ]
  },
  {
   "cell_type": "code",
   "execution_count": 14,
   "id": "be604bcd",
   "metadata": {
    "execution": {
     "iopub.execute_input": "2025-08-04T15:49:38.010570Z",
     "iopub.status.busy": "2025-08-04T15:49:38.010118Z",
     "iopub.status.idle": "2025-08-04T15:49:38.021719Z",
     "shell.execute_reply": "2025-08-04T15:49:38.019874Z"
    },
    "papermill": {
     "duration": 0.024464,
     "end_time": "2025-08-04T15:49:38.024454",
     "exception": false,
     "start_time": "2025-08-04T15:49:37.999990",
     "status": "completed"
    },
    "tags": []
   },
   "outputs": [],
   "source": [
    "df = df.drop(['Unnamed: 2', 'Unnamed: 3', 'Unnamed: 4'],axis=1)"
   ]
  },
  {
   "cell_type": "code",
   "execution_count": 15,
   "id": "343d5b99",
   "metadata": {
    "execution": {
     "iopub.execute_input": "2025-08-04T15:49:38.043932Z",
     "iopub.status.busy": "2025-08-04T15:49:38.043105Z",
     "iopub.status.idle": "2025-08-04T15:49:38.055824Z",
     "shell.execute_reply": "2025-08-04T15:49:38.054618Z"
    },
    "papermill": {
     "duration": 0.025703,
     "end_time": "2025-08-04T15:49:38.058337",
     "exception": false,
     "start_time": "2025-08-04T15:49:38.032634",
     "status": "completed"
    },
    "tags": []
   },
   "outputs": [
    {
     "data": {
      "text/html": [
       "<div>\n",
       "<style scoped>\n",
       "    .dataframe tbody tr th:only-of-type {\n",
       "        vertical-align: middle;\n",
       "    }\n",
       "\n",
       "    .dataframe tbody tr th {\n",
       "        vertical-align: top;\n",
       "    }\n",
       "\n",
       "    .dataframe thead th {\n",
       "        text-align: right;\n",
       "    }\n",
       "</style>\n",
       "<table border=\"1\" class=\"dataframe\">\n",
       "  <thead>\n",
       "    <tr style=\"text-align: right;\">\n",
       "      <th></th>\n",
       "      <th>v1</th>\n",
       "      <th>v2</th>\n",
       "    </tr>\n",
       "  </thead>\n",
       "  <tbody>\n",
       "    <tr>\n",
       "      <th>0</th>\n",
       "      <td>ham</td>\n",
       "      <td>Go until jurong point, crazy.. Available only ...</td>\n",
       "    </tr>\n",
       "    <tr>\n",
       "      <th>1</th>\n",
       "      <td>ham</td>\n",
       "      <td>Ok lar... Joking wif u oni...</td>\n",
       "    </tr>\n",
       "    <tr>\n",
       "      <th>2</th>\n",
       "      <td>spam</td>\n",
       "      <td>Free entry in 2 a wkly comp to win FA Cup fina...</td>\n",
       "    </tr>\n",
       "    <tr>\n",
       "      <th>3</th>\n",
       "      <td>ham</td>\n",
       "      <td>U dun say so early hor... U c already then say...</td>\n",
       "    </tr>\n",
       "    <tr>\n",
       "      <th>4</th>\n",
       "      <td>ham</td>\n",
       "      <td>Nah I don't think he goes to usf, he lives aro...</td>\n",
       "    </tr>\n",
       "  </tbody>\n",
       "</table>\n",
       "</div>"
      ],
      "text/plain": [
       "     v1                                                 v2\n",
       "0   ham  Go until jurong point, crazy.. Available only ...\n",
       "1   ham                      Ok lar... Joking wif u oni...\n",
       "2  spam  Free entry in 2 a wkly comp to win FA Cup fina...\n",
       "3   ham  U dun say so early hor... U c already then say...\n",
       "4   ham  Nah I don't think he goes to usf, he lives aro..."
      ]
     },
     "execution_count": 15,
     "metadata": {},
     "output_type": "execute_result"
    }
   ],
   "source": [
    "df.head()"
   ]
  },
  {
   "cell_type": "code",
   "execution_count": 16,
   "id": "18c55472",
   "metadata": {
    "execution": {
     "iopub.execute_input": "2025-08-04T15:49:38.077192Z",
     "iopub.status.busy": "2025-08-04T15:49:38.076243Z",
     "iopub.status.idle": "2025-08-04T15:49:38.083370Z",
     "shell.execute_reply": "2025-08-04T15:49:38.081998Z"
    },
    "papermill": {
     "duration": 0.018398,
     "end_time": "2025-08-04T15:49:38.085689",
     "exception": false,
     "start_time": "2025-08-04T15:49:38.067291",
     "status": "completed"
    },
    "tags": []
   },
   "outputs": [],
   "source": [
    "# rename\n",
    "df = df.rename(columns={\"v1\": \"target\", \"v2\": \"text\"})"
   ]
  },
  {
   "cell_type": "code",
   "execution_count": 17,
   "id": "41e1e2cc",
   "metadata": {
    "execution": {
     "iopub.execute_input": "2025-08-04T15:49:38.104086Z",
     "iopub.status.busy": "2025-08-04T15:49:38.103055Z",
     "iopub.status.idle": "2025-08-04T15:49:38.115244Z",
     "shell.execute_reply": "2025-08-04T15:49:38.113904Z"
    },
    "papermill": {
     "duration": 0.023557,
     "end_time": "2025-08-04T15:49:38.117467",
     "exception": false,
     "start_time": "2025-08-04T15:49:38.093910",
     "status": "completed"
    },
    "tags": []
   },
   "outputs": [
    {
     "data": {
      "text/html": [
       "<div>\n",
       "<style scoped>\n",
       "    .dataframe tbody tr th:only-of-type {\n",
       "        vertical-align: middle;\n",
       "    }\n",
       "\n",
       "    .dataframe tbody tr th {\n",
       "        vertical-align: top;\n",
       "    }\n",
       "\n",
       "    .dataframe thead th {\n",
       "        text-align: right;\n",
       "    }\n",
       "</style>\n",
       "<table border=\"1\" class=\"dataframe\">\n",
       "  <thead>\n",
       "    <tr style=\"text-align: right;\">\n",
       "      <th></th>\n",
       "      <th>target</th>\n",
       "      <th>text</th>\n",
       "    </tr>\n",
       "  </thead>\n",
       "  <tbody>\n",
       "    <tr>\n",
       "      <th>0</th>\n",
       "      <td>ham</td>\n",
       "      <td>Go until jurong point, crazy.. Available only ...</td>\n",
       "    </tr>\n",
       "    <tr>\n",
       "      <th>1</th>\n",
       "      <td>ham</td>\n",
       "      <td>Ok lar... Joking wif u oni...</td>\n",
       "    </tr>\n",
       "    <tr>\n",
       "      <th>2</th>\n",
       "      <td>spam</td>\n",
       "      <td>Free entry in 2 a wkly comp to win FA Cup fina...</td>\n",
       "    </tr>\n",
       "    <tr>\n",
       "      <th>3</th>\n",
       "      <td>ham</td>\n",
       "      <td>U dun say so early hor... U c already then say...</td>\n",
       "    </tr>\n",
       "    <tr>\n",
       "      <th>4</th>\n",
       "      <td>ham</td>\n",
       "      <td>Nah I don't think he goes to usf, he lives aro...</td>\n",
       "    </tr>\n",
       "  </tbody>\n",
       "</table>\n",
       "</div>"
      ],
      "text/plain": [
       "  target                                               text\n",
       "0    ham  Go until jurong point, crazy.. Available only ...\n",
       "1    ham                      Ok lar... Joking wif u oni...\n",
       "2   spam  Free entry in 2 a wkly comp to win FA Cup fina...\n",
       "3    ham  U dun say so early hor... U c already then say...\n",
       "4    ham  Nah I don't think he goes to usf, he lives aro..."
      ]
     },
     "execution_count": 17,
     "metadata": {},
     "output_type": "execute_result"
    }
   ],
   "source": [
    "df.head()"
   ]
  },
  {
   "cell_type": "code",
   "execution_count": 18,
   "id": "9628acc8",
   "metadata": {
    "execution": {
     "iopub.execute_input": "2025-08-04T15:49:38.135353Z",
     "iopub.status.busy": "2025-08-04T15:49:38.134894Z",
     "iopub.status.idle": "2025-08-04T15:49:38.563469Z",
     "shell.execute_reply": "2025-08-04T15:49:38.562115Z"
    },
    "papermill": {
     "duration": 0.440043,
     "end_time": "2025-08-04T15:49:38.565684",
     "exception": false,
     "start_time": "2025-08-04T15:49:38.125641",
     "status": "completed"
    },
    "tags": []
   },
   "outputs": [],
   "source": [
    "from sklearn.feature_extraction.text import CountVectorizer\n",
    "count_vector = CountVectorizer()\n",
    "count_vector.fit(df['text'])\n",
    "text_features = count_vector.transform(df['text']).toarray()"
   ]
  },
  {
   "cell_type": "code",
   "execution_count": 19,
   "id": "0f27305a",
   "metadata": {
    "execution": {
     "iopub.execute_input": "2025-08-04T15:49:38.583469Z",
     "iopub.status.busy": "2025-08-04T15:49:38.582436Z",
     "iopub.status.idle": "2025-08-04T15:49:38.590866Z",
     "shell.execute_reply": "2025-08-04T15:49:38.589627Z"
    },
    "papermill": {
     "duration": 0.019428,
     "end_time": "2025-08-04T15:49:38.592833",
     "exception": false,
     "start_time": "2025-08-04T15:49:38.573405",
     "status": "completed"
    },
    "tags": []
   },
   "outputs": [
    {
     "data": {
      "text/plain": [
       "array([[0, 0, 0, ..., 0, 0, 0],\n",
       "       [0, 0, 0, ..., 0, 0, 0],\n",
       "       [0, 0, 0, ..., 0, 0, 0],\n",
       "       ...,\n",
       "       [0, 0, 0, ..., 0, 0, 0],\n",
       "       [0, 0, 0, ..., 0, 0, 0],\n",
       "       [0, 0, 0, ..., 0, 0, 0]])"
      ]
     },
     "execution_count": 19,
     "metadata": {},
     "output_type": "execute_result"
    }
   ],
   "source": [
    "text_features"
   ]
  },
  {
   "cell_type": "code",
   "execution_count": 20,
   "id": "f041b964",
   "metadata": {
    "execution": {
     "iopub.execute_input": "2025-08-04T15:49:38.614577Z",
     "iopub.status.busy": "2025-08-04T15:49:38.613177Z",
     "iopub.status.idle": "2025-08-04T15:49:38.619148Z",
     "shell.execute_reply": "2025-08-04T15:49:38.618256Z"
    },
    "papermill": {
     "duration": 0.01977,
     "end_time": "2025-08-04T15:49:38.620844",
     "exception": false,
     "start_time": "2025-08-04T15:49:38.601074",
     "status": "completed"
    },
    "tags": []
   },
   "outputs": [],
   "source": [
    "def fun(value):\n",
    "    if value=='ham':\n",
    "        return 0\n",
    "    return 1"
   ]
  },
  {
   "cell_type": "code",
   "execution_count": 21,
   "id": "d91889be",
   "metadata": {
    "execution": {
     "iopub.execute_input": "2025-08-04T15:49:38.638799Z",
     "iopub.status.busy": "2025-08-04T15:49:38.638389Z",
     "iopub.status.idle": "2025-08-04T15:49:38.648516Z",
     "shell.execute_reply": "2025-08-04T15:49:38.647027Z"
    },
    "papermill": {
     "duration": 0.022096,
     "end_time": "2025-08-04T15:49:38.650828",
     "exception": false,
     "start_time": "2025-08-04T15:49:38.628732",
     "status": "completed"
    },
    "tags": []
   },
   "outputs": [],
   "source": [
    "df['target'] = df['target'].apply(fun)"
   ]
  },
  {
   "cell_type": "code",
   "execution_count": 22,
   "id": "155f3833",
   "metadata": {
    "execution": {
     "iopub.execute_input": "2025-08-04T15:49:38.669572Z",
     "iopub.status.busy": "2025-08-04T15:49:38.669121Z",
     "iopub.status.idle": "2025-08-04T15:49:38.675659Z",
     "shell.execute_reply": "2025-08-04T15:49:38.674228Z"
    },
    "papermill": {
     "duration": 0.019502,
     "end_time": "2025-08-04T15:49:38.678594",
     "exception": false,
     "start_time": "2025-08-04T15:49:38.659092",
     "status": "completed"
    },
    "tags": []
   },
   "outputs": [],
   "source": [
    "X = text_features\n",
    "y = df['target']"
   ]
  },
  {
   "cell_type": "code",
   "execution_count": 23,
   "id": "f07c951f",
   "metadata": {
    "execution": {
     "iopub.execute_input": "2025-08-04T15:49:38.697779Z",
     "iopub.status.busy": "2025-08-04T15:49:38.697376Z",
     "iopub.status.idle": "2025-08-04T15:49:38.704436Z",
     "shell.execute_reply": "2025-08-04T15:49:38.702404Z"
    },
    "papermill": {
     "duration": 0.019851,
     "end_time": "2025-08-04T15:49:38.706549",
     "exception": false,
     "start_time": "2025-08-04T15:49:38.686698",
     "status": "completed"
    },
    "tags": []
   },
   "outputs": [],
   "source": [
    "# df.head()"
   ]
  },
  {
   "cell_type": "code",
   "execution_count": 24,
   "id": "a5e678c0",
   "metadata": {
    "execution": {
     "iopub.execute_input": "2025-08-04T15:49:38.727205Z",
     "iopub.status.busy": "2025-08-04T15:49:38.726598Z",
     "iopub.status.idle": "2025-08-04T15:49:38.732771Z",
     "shell.execute_reply": "2025-08-04T15:49:38.731414Z"
    },
    "papermill": {
     "duration": 0.019603,
     "end_time": "2025-08-04T15:49:38.735007",
     "exception": false,
     "start_time": "2025-08-04T15:49:38.715404",
     "status": "completed"
    },
    "tags": []
   },
   "outputs": [],
   "source": [
    "# Generic Step"
   ]
  },
  {
   "cell_type": "code",
   "execution_count": 25,
   "id": "881a7acf",
   "metadata": {
    "execution": {
     "iopub.execute_input": "2025-08-04T15:49:38.753943Z",
     "iopub.status.busy": "2025-08-04T15:49:38.753564Z",
     "iopub.status.idle": "2025-08-04T15:49:39.246484Z",
     "shell.execute_reply": "2025-08-04T15:49:39.244870Z"
    },
    "papermill": {
     "duration": 0.505049,
     "end_time": "2025-08-04T15:49:39.248332",
     "exception": false,
     "start_time": "2025-08-04T15:49:38.743283",
     "status": "completed"
    },
    "tags": []
   },
   "outputs": [],
   "source": [
    "from sklearn.model_selection import train_test_split\n",
    "\n",
    "X_train, X_test, y_train, y_test = train_test_split(X,y,train_size=0.8,random_state=1)"
   ]
  },
  {
   "cell_type": "code",
   "execution_count": 26,
   "id": "90229d23",
   "metadata": {
    "execution": {
     "iopub.execute_input": "2025-08-04T15:49:39.266893Z",
     "iopub.status.busy": "2025-08-04T15:49:39.265720Z",
     "iopub.status.idle": "2025-08-04T15:49:39.282593Z",
     "shell.execute_reply": "2025-08-04T15:49:39.281170Z"
    },
    "papermill": {
     "duration": 0.028969,
     "end_time": "2025-08-04T15:49:39.285097",
     "exception": false,
     "start_time": "2025-08-04T15:49:39.256128",
     "status": "completed"
    },
    "tags": []
   },
   "outputs": [],
   "source": [
    "from sklearn.naive_bayes import MultinomialNB"
   ]
  },
  {
   "cell_type": "code",
   "execution_count": 27,
   "id": "eb035234",
   "metadata": {
    "execution": {
     "iopub.execute_input": "2025-08-04T15:49:39.304839Z",
     "iopub.status.busy": "2025-08-04T15:49:39.303995Z",
     "iopub.status.idle": "2025-08-04T15:49:39.311170Z",
     "shell.execute_reply": "2025-08-04T15:49:39.309756Z"
    },
    "papermill": {
     "duration": 0.020158,
     "end_time": "2025-08-04T15:49:39.313353",
     "exception": false,
     "start_time": "2025-08-04T15:49:39.293195",
     "status": "completed"
    },
    "tags": []
   },
   "outputs": [],
   "source": [
    "model = MultinomialNB()"
   ]
  },
  {
   "cell_type": "code",
   "execution_count": 28,
   "id": "b3d1a0ad",
   "metadata": {
    "execution": {
     "iopub.execute_input": "2025-08-04T15:49:39.333573Z",
     "iopub.status.busy": "2025-08-04T15:49:39.333109Z",
     "iopub.status.idle": "2025-08-04T15:49:39.854776Z",
     "shell.execute_reply": "2025-08-04T15:49:39.853492Z"
    },
    "papermill": {
     "duration": 0.535532,
     "end_time": "2025-08-04T15:49:39.857157",
     "exception": false,
     "start_time": "2025-08-04T15:49:39.321625",
     "status": "completed"
    },
    "tags": []
   },
   "outputs": [
    {
     "data": {
      "text/html": [
       "<style>#sk-container-id-1 {color: black;background-color: white;}#sk-container-id-1 pre{padding: 0;}#sk-container-id-1 div.sk-toggleable {background-color: white;}#sk-container-id-1 label.sk-toggleable__label {cursor: pointer;display: block;width: 100%;margin-bottom: 0;padding: 0.3em;box-sizing: border-box;text-align: center;}#sk-container-id-1 label.sk-toggleable__label-arrow:before {content: \"▸\";float: left;margin-right: 0.25em;color: #696969;}#sk-container-id-1 label.sk-toggleable__label-arrow:hover:before {color: black;}#sk-container-id-1 div.sk-estimator:hover label.sk-toggleable__label-arrow:before {color: black;}#sk-container-id-1 div.sk-toggleable__content {max-height: 0;max-width: 0;overflow: hidden;text-align: left;background-color: #f0f8ff;}#sk-container-id-1 div.sk-toggleable__content pre {margin: 0.2em;color: black;border-radius: 0.25em;background-color: #f0f8ff;}#sk-container-id-1 input.sk-toggleable__control:checked~div.sk-toggleable__content {max-height: 200px;max-width: 100%;overflow: auto;}#sk-container-id-1 input.sk-toggleable__control:checked~label.sk-toggleable__label-arrow:before {content: \"▾\";}#sk-container-id-1 div.sk-estimator input.sk-toggleable__control:checked~label.sk-toggleable__label {background-color: #d4ebff;}#sk-container-id-1 div.sk-label input.sk-toggleable__control:checked~label.sk-toggleable__label {background-color: #d4ebff;}#sk-container-id-1 input.sk-hidden--visually {border: 0;clip: rect(1px 1px 1px 1px);clip: rect(1px, 1px, 1px, 1px);height: 1px;margin: -1px;overflow: hidden;padding: 0;position: absolute;width: 1px;}#sk-container-id-1 div.sk-estimator {font-family: monospace;background-color: #f0f8ff;border: 1px dotted black;border-radius: 0.25em;box-sizing: border-box;margin-bottom: 0.5em;}#sk-container-id-1 div.sk-estimator:hover {background-color: #d4ebff;}#sk-container-id-1 div.sk-parallel-item::after {content: \"\";width: 100%;border-bottom: 1px solid gray;flex-grow: 1;}#sk-container-id-1 div.sk-label:hover label.sk-toggleable__label {background-color: #d4ebff;}#sk-container-id-1 div.sk-serial::before {content: \"\";position: absolute;border-left: 1px solid gray;box-sizing: border-box;top: 0;bottom: 0;left: 50%;z-index: 0;}#sk-container-id-1 div.sk-serial {display: flex;flex-direction: column;align-items: center;background-color: white;padding-right: 0.2em;padding-left: 0.2em;position: relative;}#sk-container-id-1 div.sk-item {position: relative;z-index: 1;}#sk-container-id-1 div.sk-parallel {display: flex;align-items: stretch;justify-content: center;background-color: white;position: relative;}#sk-container-id-1 div.sk-item::before, #sk-container-id-1 div.sk-parallel-item::before {content: \"\";position: absolute;border-left: 1px solid gray;box-sizing: border-box;top: 0;bottom: 0;left: 50%;z-index: -1;}#sk-container-id-1 div.sk-parallel-item {display: flex;flex-direction: column;z-index: 1;position: relative;background-color: white;}#sk-container-id-1 div.sk-parallel-item:first-child::after {align-self: flex-end;width: 50%;}#sk-container-id-1 div.sk-parallel-item:last-child::after {align-self: flex-start;width: 50%;}#sk-container-id-1 div.sk-parallel-item:only-child::after {width: 0;}#sk-container-id-1 div.sk-dashed-wrapped {border: 1px dashed gray;margin: 0 0.4em 0.5em 0.4em;box-sizing: border-box;padding-bottom: 0.4em;background-color: white;}#sk-container-id-1 div.sk-label label {font-family: monospace;font-weight: bold;display: inline-block;line-height: 1.2em;}#sk-container-id-1 div.sk-label-container {text-align: center;}#sk-container-id-1 div.sk-container {/* jupyter's `normalize.less` sets `[hidden] { display: none; }` but bootstrap.min.css set `[hidden] { display: none !important; }` so we also need the `!important` here to be able to override the default hidden behavior on the sphinx rendered scikit-learn.org. See: https://github.com/scikit-learn/scikit-learn/issues/21755 */display: inline-block !important;position: relative;}#sk-container-id-1 div.sk-text-repr-fallback {display: none;}</style><div id=\"sk-container-id-1\" class=\"sk-top-container\"><div class=\"sk-text-repr-fallback\"><pre>MultinomialNB()</pre><b>In a Jupyter environment, please rerun this cell to show the HTML representation or trust the notebook. <br />On GitHub, the HTML representation is unable to render, please try loading this page with nbviewer.org.</b></div><div class=\"sk-container\" hidden><div class=\"sk-item\"><div class=\"sk-estimator sk-toggleable\"><input class=\"sk-toggleable__control sk-hidden--visually\" id=\"sk-estimator-id-1\" type=\"checkbox\" checked><label for=\"sk-estimator-id-1\" class=\"sk-toggleable__label sk-toggleable__label-arrow\">MultinomialNB</label><div class=\"sk-toggleable__content\"><pre>MultinomialNB()</pre></div></div></div></div></div>"
      ],
      "text/plain": [
       "MultinomialNB()"
      ]
     },
     "execution_count": 28,
     "metadata": {},
     "output_type": "execute_result"
    }
   ],
   "source": [
    "model.fit(X_train,y_train)"
   ]
  },
  {
   "cell_type": "code",
   "execution_count": 29,
   "id": "f8360a5a",
   "metadata": {
    "execution": {
     "iopub.execute_input": "2025-08-04T15:49:39.878586Z",
     "iopub.status.busy": "2025-08-04T15:49:39.878165Z",
     "iopub.status.idle": "2025-08-04T15:49:39.955116Z",
     "shell.execute_reply": "2025-08-04T15:49:39.954064Z"
    },
    "papermill": {
     "duration": 0.090572,
     "end_time": "2025-08-04T15:49:39.956995",
     "exception": false,
     "start_time": "2025-08-04T15:49:39.866423",
     "status": "completed"
    },
    "tags": []
   },
   "outputs": [
    {
     "data": {
      "text/plain": [
       "0.97847533632287"
      ]
     },
     "execution_count": 29,
     "metadata": {},
     "output_type": "execute_result"
    }
   ],
   "source": [
    "model.score(X_test,y_test)"
   ]
  },
  {
   "cell_type": "code",
   "execution_count": 30,
   "id": "cdcee364",
   "metadata": {
    "execution": {
     "iopub.execute_input": "2025-08-04T15:49:39.975192Z",
     "iopub.status.busy": "2025-08-04T15:49:39.974765Z",
     "iopub.status.idle": "2025-08-04T15:49:39.979926Z",
     "shell.execute_reply": "2025-08-04T15:49:39.978329Z"
    },
    "papermill": {
     "duration": 0.016801,
     "end_time": "2025-08-04T15:49:39.981902",
     "exception": false,
     "start_time": "2025-08-04T15:49:39.965101",
     "status": "completed"
    },
    "tags": []
   },
   "outputs": [],
   "source": [
    "# ??"
   ]
  },
  {
   "cell_type": "code",
   "execution_count": 31,
   "id": "60135465",
   "metadata": {
    "execution": {
     "iopub.execute_input": "2025-08-04T15:49:40.000093Z",
     "iopub.status.busy": "2025-08-04T15:49:39.999737Z",
     "iopub.status.idle": "2025-08-04T15:49:40.007495Z",
     "shell.execute_reply": "2025-08-04T15:49:40.006460Z"
    },
    "papermill": {
     "duration": 0.019425,
     "end_time": "2025-08-04T15:49:40.009514",
     "exception": false,
     "start_time": "2025-08-04T15:49:39.990089",
     "status": "completed"
    },
    "tags": []
   },
   "outputs": [
    {
     "data": {
      "text/plain": [
       "array([[0, 0, 0, ..., 0, 0, 0]])"
      ]
     },
     "execution_count": 31,
     "metadata": {},
     "output_type": "execute_result"
    }
   ],
   "source": [
    "sentence = \"Free entry in wkly comp\"\n",
    "text_features = count_vector.transform([sentence]).toarray()\n",
    "text_features"
   ]
  },
  {
   "cell_type": "code",
   "execution_count": 32,
   "id": "fe378077",
   "metadata": {
    "execution": {
     "iopub.execute_input": "2025-08-04T15:49:40.104520Z",
     "iopub.status.busy": "2025-08-04T15:49:40.104089Z",
     "iopub.status.idle": "2025-08-04T15:49:40.116956Z",
     "shell.execute_reply": "2025-08-04T15:49:40.115126Z"
    },
    "papermill": {
     "duration": 0.101521,
     "end_time": "2025-08-04T15:49:40.119363",
     "exception": false,
     "start_time": "2025-08-04T15:49:40.017842",
     "status": "completed"
    },
    "tags": []
   },
   "outputs": [
    {
     "data": {
      "text/plain": [
       "array([1])"
      ]
     },
     "execution_count": 32,
     "metadata": {},
     "output_type": "execute_result"
    }
   ],
   "source": [
    "model.predict(text_features)"
   ]
  },
  {
   "cell_type": "code",
   "execution_count": 33,
   "id": "58207fb8",
   "metadata": {
    "execution": {
     "iopub.execute_input": "2025-08-04T15:49:40.139163Z",
     "iopub.status.busy": "2025-08-04T15:49:40.138754Z",
     "iopub.status.idle": "2025-08-04T15:49:40.150750Z",
     "shell.execute_reply": "2025-08-04T15:49:40.149366Z"
    },
    "papermill": {
     "duration": 0.024326,
     "end_time": "2025-08-04T15:49:40.153066",
     "exception": false,
     "start_time": "2025-08-04T15:49:40.128740",
     "status": "completed"
    },
    "tags": []
   },
   "outputs": [
    {
     "data": {
      "text/plain": [
       "array([[3.11208245e-04, 9.99688792e-01]])"
      ]
     },
     "execution_count": 33,
     "metadata": {},
     "output_type": "execute_result"
    }
   ],
   "source": [
    "model.predict_proba(text_features)"
   ]
  },
  {
   "cell_type": "code",
   "execution_count": 34,
   "id": "7bc80fd2",
   "metadata": {
    "execution": {
     "iopub.execute_input": "2025-08-04T15:49:40.176417Z",
     "iopub.status.busy": "2025-08-04T15:49:40.176010Z",
     "iopub.status.idle": "2025-08-04T15:49:40.185707Z",
     "shell.execute_reply": "2025-08-04T15:49:40.184161Z"
    },
    "papermill": {
     "duration": 0.02479,
     "end_time": "2025-08-04T15:49:40.187872",
     "exception": false,
     "start_time": "2025-08-04T15:49:40.163082",
     "status": "completed"
    },
    "tags": []
   },
   "outputs": [
    {
     "data": {
      "text/plain": [
       "1"
      ]
     },
     "execution_count": 34,
     "metadata": {},
     "output_type": "execute_result"
    }
   ],
   "source": [
    "import numpy as np\n",
    "np.argmax(model.predict_proba(text_features))"
   ]
  },
  {
   "cell_type": "code",
   "execution_count": 35,
   "id": "009d1e2a",
   "metadata": {
    "execution": {
     "iopub.execute_input": "2025-08-04T15:49:40.214303Z",
     "iopub.status.busy": "2025-08-04T15:49:40.211727Z",
     "iopub.status.idle": "2025-08-04T15:49:40.221450Z",
     "shell.execute_reply": "2025-08-04T15:49:40.219432Z"
    },
    "papermill": {
     "duration": 0.026457,
     "end_time": "2025-08-04T15:49:40.224127",
     "exception": false,
     "start_time": "2025-08-04T15:49:40.197670",
     "status": "completed"
    },
    "tags": []
   },
   "outputs": [
    {
     "data": {
      "text/plain": [
       "1"
      ]
     },
     "execution_count": 35,
     "metadata": {},
     "output_type": "execute_result"
    }
   ],
   "source": [
    "1"
   ]
  }
 ],
 "metadata": {
  "kaggle": {
   "accelerator": "none",
   "dataSources": [
    {
     "datasetId": 483,
     "sourceId": 982,
     "sourceType": "datasetVersion"
    }
   ],
   "dockerImageVersionId": 31089,
   "isGpuEnabled": false,
   "isInternetEnabled": true,
   "language": "python",
   "sourceType": "notebook"
  },
  "kernelspec": {
   "display_name": "Python 3",
   "language": "python",
   "name": "python3"
  },
  "language_info": {
   "codemirror_mode": {
    "name": "ipython",
    "version": 3
   },
   "file_extension": ".py",
   "mimetype": "text/x-python",
   "name": "python",
   "nbconvert_exporter": "python",
   "pygments_lexer": "ipython3",
   "version": "3.11.13"
  },
  "papermill": {
   "default_parameters": {},
   "duration": 15.058016,
   "end_time": "2025-08-04T15:49:41.061862",
   "environment_variables": {},
   "exception": null,
   "input_path": "__notebook__.ipynb",
   "output_path": "__notebook__.ipynb",
   "parameters": {},
   "start_time": "2025-08-04T15:49:26.003846",
   "version": "2.6.0"
  }
 },
 "nbformat": 4,
 "nbformat_minor": 5
}
