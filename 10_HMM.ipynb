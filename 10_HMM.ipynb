{
 "cells": [
  {
   "cell_type": "code",
   "execution_count": 1,
   "id": "daddbaa8",
   "metadata": {
    "_cell_guid": "b1076dfc-b9ad-4769-8c92-a6c4dae69d19",
    "_uuid": "8f2839f25d086af736a60e9eeb907d3b93b6e0e5",
    "collapsed": true,
    "execution": {
     "iopub.execute_input": "2025-08-17T10:02:18.048944Z",
     "iopub.status.busy": "2025-08-17T10:02:18.048531Z",
     "iopub.status.idle": "2025-08-17T10:02:23.414193Z",
     "shell.execute_reply": "2025-08-17T10:02:23.413004Z"
    },
    "jupyter": {
     "outputs_hidden": true
    },
    "papermill": {
     "duration": 5.371806,
     "end_time": "2025-08-17T10:02:23.416121",
     "exception": false,
     "start_time": "2025-08-17T10:02:18.044315",
     "status": "completed"
    },
    "tags": []
   },
   "outputs": [
    {
     "name": "stdout",
     "output_type": "stream",
     "text": [
      "Collecting hmmlearn\r\n",
      "  Downloading hmmlearn-0.3.3-cp311-cp311-manylinux_2_17_x86_64.manylinux2014_x86_64.whl.metadata (3.0 kB)\r\n",
      "Requirement already satisfied: numpy>=1.10 in /usr/local/lib/python3.11/dist-packages (from hmmlearn) (1.26.4)\r\n",
      "Requirement already satisfied: scikit-learn!=0.22.0,>=0.16 in /usr/local/lib/python3.11/dist-packages (from hmmlearn) (1.2.2)\r\n",
      "Requirement already satisfied: scipy>=0.19 in /usr/local/lib/python3.11/dist-packages (from hmmlearn) (1.15.3)\r\n",
      "Requirement already satisfied: mkl_fft in /usr/local/lib/python3.11/dist-packages (from numpy>=1.10->hmmlearn) (1.3.8)\r\n",
      "Requirement already satisfied: mkl_random in /usr/local/lib/python3.11/dist-packages (from numpy>=1.10->hmmlearn) (1.2.4)\r\n",
      "Requirement already satisfied: mkl_umath in /usr/local/lib/python3.11/dist-packages (from numpy>=1.10->hmmlearn) (0.1.1)\r\n",
      "Requirement already satisfied: mkl in /usr/local/lib/python3.11/dist-packages (from numpy>=1.10->hmmlearn) (2025.2.0)\r\n",
      "Requirement already satisfied: tbb4py in /usr/local/lib/python3.11/dist-packages (from numpy>=1.10->hmmlearn) (2022.2.0)\r\n",
      "Requirement already satisfied: mkl-service in /usr/local/lib/python3.11/dist-packages (from numpy>=1.10->hmmlearn) (2.4.1)\r\n",
      "Requirement already satisfied: joblib>=1.1.1 in /usr/local/lib/python3.11/dist-packages (from scikit-learn!=0.22.0,>=0.16->hmmlearn) (1.5.1)\r\n",
      "Requirement already satisfied: threadpoolctl>=2.0.0 in /usr/local/lib/python3.11/dist-packages (from scikit-learn!=0.22.0,>=0.16->hmmlearn) (3.6.0)\r\n",
      "Requirement already satisfied: intel-openmp<2026,>=2024 in /usr/local/lib/python3.11/dist-packages (from mkl->numpy>=1.10->hmmlearn) (2024.2.0)\r\n",
      "Requirement already satisfied: tbb==2022.* in /usr/local/lib/python3.11/dist-packages (from mkl->numpy>=1.10->hmmlearn) (2022.2.0)\r\n",
      "Requirement already satisfied: tcmlib==1.* in /usr/local/lib/python3.11/dist-packages (from tbb==2022.*->mkl->numpy>=1.10->hmmlearn) (1.4.0)\r\n",
      "Requirement already satisfied: intel-cmplr-lib-rt in /usr/local/lib/python3.11/dist-packages (from mkl_umath->numpy>=1.10->hmmlearn) (2024.2.0)\r\n",
      "Requirement already satisfied: intel-cmplr-lib-ur==2024.2.0 in /usr/local/lib/python3.11/dist-packages (from intel-openmp<2026,>=2024->mkl->numpy>=1.10->hmmlearn) (2024.2.0)\r\n",
      "Downloading hmmlearn-0.3.3-cp311-cp311-manylinux_2_17_x86_64.manylinux2014_x86_64.whl (165 kB)\r\n",
      "\u001b[2K   \u001b[90m━━━━━━━━━━━━━━━━━━━━━━━━━━━━━━━━━━━━━━━━\u001b[0m \u001b[32m165.9/165.9 kB\u001b[0m \u001b[31m5.7 MB/s\u001b[0m eta \u001b[36m0:00:00\u001b[0m\r\n",
      "\u001b[?25hInstalling collected packages: hmmlearn\r\n",
      "Successfully installed hmmlearn-0.3.3\r\n"
     ]
    }
   ],
   "source": [
    "!pip install hmmlearn"
   ]
  },
  {
   "cell_type": "code",
   "execution_count": 2,
   "id": "3c38a09a",
   "metadata": {
    "execution": {
     "iopub.execute_input": "2025-08-17T10:02:23.423996Z",
     "iopub.status.busy": "2025-08-17T10:02:23.423658Z",
     "iopub.status.idle": "2025-08-17T10:02:25.357728Z",
     "shell.execute_reply": "2025-08-17T10:02:25.356814Z"
    },
    "papermill": {
     "duration": 1.939949,
     "end_time": "2025-08-17T10:02:25.359444",
     "exception": false,
     "start_time": "2025-08-17T10:02:23.419495",
     "status": "completed"
    },
    "tags": []
   },
   "outputs": [],
   "source": [
    "import numpy as np\n",
    "from hmmlearn import hmm"
   ]
  },
  {
   "cell_type": "code",
   "execution_count": 3,
   "id": "38e9c620",
   "metadata": {
    "execution": {
     "iopub.execute_input": "2025-08-17T10:02:25.366478Z",
     "iopub.status.busy": "2025-08-17T10:02:25.366096Z",
     "iopub.status.idle": "2025-08-17T10:02:25.371249Z",
     "shell.execute_reply": "2025-08-17T10:02:25.370416Z"
    },
    "papermill": {
     "duration": 0.010249,
     "end_time": "2025-08-17T10:02:25.372743",
     "exception": false,
     "start_time": "2025-08-17T10:02:25.362494",
     "status": "completed"
    },
    "tags": []
   },
   "outputs": [],
   "source": [
    "# Initial Proba\n",
    "\n",
    "# Sunny = 0.4, Cloudy = 0.4, Rainy = 0.2\n",
    "startprobab = [0.4,0.4,0.2]\n",
    "\n",
    "# Transit Proba\n",
    "\n",
    "transprobab = [\n",
    "# Sunny,Cloudy,Rainy\n",
    "    \n",
    "    [0.5,0.3,0.2],\n",
    "    [0.2,0.6,0.2],\n",
    "    [0.3,0.3,0.4]\n",
    "]\n",
    "\n",
    "# EP\n",
    "\n",
    "# Happy, Satisfied, Sad\n",
    "emissionprobab = [\n",
    "    [0.7,0.2,0.1],\n",
    "    [0.3,0.5,0.2],\n",
    "    [0.1,0.3,0.6]\n",
    "]"
   ]
  },
  {
   "cell_type": "code",
   "execution_count": 4,
   "id": "f0aa39ad",
   "metadata": {
    "execution": {
     "iopub.execute_input": "2025-08-17T10:02:25.380184Z",
     "iopub.status.busy": "2025-08-17T10:02:25.379873Z",
     "iopub.status.idle": "2025-08-17T10:02:25.384570Z",
     "shell.execute_reply": "2025-08-17T10:02:25.383748Z"
    },
    "papermill": {
     "duration": 0.00983,
     "end_time": "2025-08-17T10:02:25.386049",
     "exception": false,
     "start_time": "2025-08-17T10:02:25.376219",
     "status": "completed"
    },
    "tags": []
   },
   "outputs": [],
   "source": [
    "model = hmm.CategoricalHMM(n_components=3,\n",
    "                          init_params=\"\",\n",
    "                          params='ste',)\n",
    "\n",
    "model.startprob_ = startprobab\n",
    "model.transmat_ = transprobab\n",
    "model.emissionprob_ = emissionprobab"
   ]
  },
  {
   "cell_type": "code",
   "execution_count": 5,
   "id": "90f4d7ae",
   "metadata": {
    "execution": {
     "iopub.execute_input": "2025-08-17T10:02:25.392830Z",
     "iopub.status.busy": "2025-08-17T10:02:25.392282Z",
     "iopub.status.idle": "2025-08-17T10:02:25.398948Z",
     "shell.execute_reply": "2025-08-17T10:02:25.398043Z"
    },
    "papermill": {
     "duration": 0.011518,
     "end_time": "2025-08-17T10:02:25.400350",
     "exception": false,
     "start_time": "2025-08-17T10:02:25.388832",
     "status": "completed"
    },
    "tags": []
   },
   "outputs": [
    {
     "data": {
      "text/plain": [
       "[[0.5, 0.3, 0.2], [0.2, 0.6, 0.2], [0.3, 0.3, 0.4]]"
      ]
     },
     "execution_count": 5,
     "metadata": {},
     "output_type": "execute_result"
    }
   ],
   "source": [
    "model.transmat_"
   ]
  },
  {
   "cell_type": "code",
   "execution_count": 6,
   "id": "5f081697",
   "metadata": {
    "execution": {
     "iopub.execute_input": "2025-08-17T10:02:25.407394Z",
     "iopub.status.busy": "2025-08-17T10:02:25.407097Z",
     "iopub.status.idle": "2025-08-17T10:02:25.431179Z",
     "shell.execute_reply": "2025-08-17T10:02:25.430317Z"
    },
    "papermill": {
     "duration": 0.029289,
     "end_time": "2025-08-17T10:02:25.432651",
     "exception": false,
     "start_time": "2025-08-17T10:02:25.403362",
     "status": "completed"
    },
    "tags": []
   },
   "outputs": [
    {
     "data": {
      "text/plain": [
       "0.0010584"
      ]
     },
     "execution_count": 6,
     "metadata": {},
     "output_type": "execute_result"
    }
   ],
   "source": [
    "# Happy, Satisfied, Sad, Happy # 81\n",
    "X = np.array([0,1,2,0]).reshape(-1, 1)\n",
    "logprobab, seq = model.decode(X,len(X))\n",
    "probab = np.exp(logprobab)\n",
    "probab"
   ]
  },
  {
   "cell_type": "code",
   "execution_count": 7,
   "id": "3b2b61e3",
   "metadata": {
    "execution": {
     "iopub.execute_input": "2025-08-17T10:02:25.439734Z",
     "iopub.status.busy": "2025-08-17T10:02:25.439383Z",
     "iopub.status.idle": "2025-08-17T10:02:25.458422Z",
     "shell.execute_reply": "2025-08-17T10:02:25.457633Z"
    },
    "papermill": {
     "duration": 0.024202,
     "end_time": "2025-08-17T10:02:25.459957",
     "exception": false,
     "start_time": "2025-08-17T10:02:25.435755",
     "status": "completed"
    },
    "tags": []
   },
   "outputs": [
    {
     "data": {
      "text/html": [
       "<style>#sk-container-id-1 {color: black;background-color: white;}#sk-container-id-1 pre{padding: 0;}#sk-container-id-1 div.sk-toggleable {background-color: white;}#sk-container-id-1 label.sk-toggleable__label {cursor: pointer;display: block;width: 100%;margin-bottom: 0;padding: 0.3em;box-sizing: border-box;text-align: center;}#sk-container-id-1 label.sk-toggleable__label-arrow:before {content: \"▸\";float: left;margin-right: 0.25em;color: #696969;}#sk-container-id-1 label.sk-toggleable__label-arrow:hover:before {color: black;}#sk-container-id-1 div.sk-estimator:hover label.sk-toggleable__label-arrow:before {color: black;}#sk-container-id-1 div.sk-toggleable__content {max-height: 0;max-width: 0;overflow: hidden;text-align: left;background-color: #f0f8ff;}#sk-container-id-1 div.sk-toggleable__content pre {margin: 0.2em;color: black;border-radius: 0.25em;background-color: #f0f8ff;}#sk-container-id-1 input.sk-toggleable__control:checked~div.sk-toggleable__content {max-height: 200px;max-width: 100%;overflow: auto;}#sk-container-id-1 input.sk-toggleable__control:checked~label.sk-toggleable__label-arrow:before {content: \"▾\";}#sk-container-id-1 div.sk-estimator input.sk-toggleable__control:checked~label.sk-toggleable__label {background-color: #d4ebff;}#sk-container-id-1 div.sk-label input.sk-toggleable__control:checked~label.sk-toggleable__label {background-color: #d4ebff;}#sk-container-id-1 input.sk-hidden--visually {border: 0;clip: rect(1px 1px 1px 1px);clip: rect(1px, 1px, 1px, 1px);height: 1px;margin: -1px;overflow: hidden;padding: 0;position: absolute;width: 1px;}#sk-container-id-1 div.sk-estimator {font-family: monospace;background-color: #f0f8ff;border: 1px dotted black;border-radius: 0.25em;box-sizing: border-box;margin-bottom: 0.5em;}#sk-container-id-1 div.sk-estimator:hover {background-color: #d4ebff;}#sk-container-id-1 div.sk-parallel-item::after {content: \"\";width: 100%;border-bottom: 1px solid gray;flex-grow: 1;}#sk-container-id-1 div.sk-label:hover label.sk-toggleable__label {background-color: #d4ebff;}#sk-container-id-1 div.sk-serial::before {content: \"\";position: absolute;border-left: 1px solid gray;box-sizing: border-box;top: 0;bottom: 0;left: 50%;z-index: 0;}#sk-container-id-1 div.sk-serial {display: flex;flex-direction: column;align-items: center;background-color: white;padding-right: 0.2em;padding-left: 0.2em;position: relative;}#sk-container-id-1 div.sk-item {position: relative;z-index: 1;}#sk-container-id-1 div.sk-parallel {display: flex;align-items: stretch;justify-content: center;background-color: white;position: relative;}#sk-container-id-1 div.sk-item::before, #sk-container-id-1 div.sk-parallel-item::before {content: \"\";position: absolute;border-left: 1px solid gray;box-sizing: border-box;top: 0;bottom: 0;left: 50%;z-index: -1;}#sk-container-id-1 div.sk-parallel-item {display: flex;flex-direction: column;z-index: 1;position: relative;background-color: white;}#sk-container-id-1 div.sk-parallel-item:first-child::after {align-self: flex-end;width: 50%;}#sk-container-id-1 div.sk-parallel-item:last-child::after {align-self: flex-start;width: 50%;}#sk-container-id-1 div.sk-parallel-item:only-child::after {width: 0;}#sk-container-id-1 div.sk-dashed-wrapped {border: 1px dashed gray;margin: 0 0.4em 0.5em 0.4em;box-sizing: border-box;padding-bottom: 0.4em;background-color: white;}#sk-container-id-1 div.sk-label label {font-family: monospace;font-weight: bold;display: inline-block;line-height: 1.2em;}#sk-container-id-1 div.sk-label-container {text-align: center;}#sk-container-id-1 div.sk-container {/* jupyter's `normalize.less` sets `[hidden] { display: none; }` but bootstrap.min.css set `[hidden] { display: none !important; }` so we also need the `!important` here to be able to override the default hidden behavior on the sphinx rendered scikit-learn.org. See: https://github.com/scikit-learn/scikit-learn/issues/21755 */display: inline-block !important;position: relative;}#sk-container-id-1 div.sk-text-repr-fallback {display: none;}</style><div id=\"sk-container-id-1\" class=\"sk-top-container\"><div class=\"sk-text-repr-fallback\"><pre>CategoricalHMM(init_params=&#x27;&#x27;, n_components=3, n_features=3,\n",
       "               random_state=RandomState(MT19937) at 0x7DCC6C1DD840)</pre><b>In a Jupyter environment, please rerun this cell to show the HTML representation or trust the notebook. <br />On GitHub, the HTML representation is unable to render, please try loading this page with nbviewer.org.</b></div><div class=\"sk-container\" hidden><div class=\"sk-item\"><div class=\"sk-estimator sk-toggleable\"><input class=\"sk-toggleable__control sk-hidden--visually\" id=\"sk-estimator-id-1\" type=\"checkbox\" checked><label for=\"sk-estimator-id-1\" class=\"sk-toggleable__label sk-toggleable__label-arrow\">CategoricalHMM</label><div class=\"sk-toggleable__content\"><pre>CategoricalHMM(init_params=&#x27;&#x27;, n_components=3, n_features=3,\n",
       "               random_state=RandomState(MT19937) at 0x7DCC6C1DD840)</pre></div></div></div></div></div>"
      ],
      "text/plain": [
       "CategoricalHMM(init_params='', n_components=3, n_features=3,\n",
       "               random_state=RandomState(MT19937) at 0x7DCC6C1DD840)"
      ]
     },
     "execution_count": 7,
     "metadata": {},
     "output_type": "execute_result"
    }
   ],
   "source": [
    "# Happy, Satisfied, Sad, Happy\n",
    "model.fit(X)"
   ]
  },
  {
   "cell_type": "code",
   "execution_count": 8,
   "id": "0d3bc580",
   "metadata": {
    "execution": {
     "iopub.execute_input": "2025-08-17T10:02:25.468142Z",
     "iopub.status.busy": "2025-08-17T10:02:25.467587Z",
     "iopub.status.idle": "2025-08-17T10:02:25.474370Z",
     "shell.execute_reply": "2025-08-17T10:02:25.473727Z"
    },
    "papermill": {
     "duration": 0.012243,
     "end_time": "2025-08-17T10:02:25.475717",
     "exception": false,
     "start_time": "2025-08-17T10:02:25.463474",
     "status": "completed"
    },
    "tags": []
   },
   "outputs": [
    {
     "data": {
      "text/plain": [
       "array([[7.85052897e-91, 1.00000000e+00, 1.51094210e-57],\n",
       "       [6.84740999e-62, 9.98361948e-51, 1.00000000e+00],\n",
       "       [1.00000000e+00, 6.53003911e-17, 4.29979906e-21]])"
      ]
     },
     "execution_count": 8,
     "metadata": {},
     "output_type": "execute_result"
    }
   ],
   "source": [
    "model.transmat_"
   ]
  },
  {
   "cell_type": "code",
   "execution_count": 9,
   "id": "6bba9108",
   "metadata": {
    "execution": {
     "iopub.execute_input": "2025-08-17T10:02:25.483382Z",
     "iopub.status.busy": "2025-08-17T10:02:25.482900Z",
     "iopub.status.idle": "2025-08-17T10:02:25.489712Z",
     "shell.execute_reply": "2025-08-17T10:02:25.488871Z"
    },
    "papermill": {
     "duration": 0.012012,
     "end_time": "2025-08-17T10:02:25.490978",
     "exception": false,
     "start_time": "2025-08-17T10:02:25.478966",
     "status": "completed"
    },
    "tags": []
   },
   "outputs": [
    {
     "name": "stdout",
     "output_type": "stream",
     "text": [
      "Generated observations: [[0]\n",
      " [1]\n",
      " [2]\n",
      " [0]\n",
      " [1]\n",
      " [2]\n",
      " [0]\n",
      " [1]\n",
      " [2]\n",
      " [0]]\n",
      "Generated observations: [0 1 2 0 1 2 0 1 2 0]\n",
      "Generated hidden states: [0 1 2 0 1 2 0 1 2 0]\n"
     ]
    }
   ],
   "source": [
    "X_gen, Z_gen = model.sample(n_samples=10)\n",
    "print(\"Generated observations:\",X_gen)\n",
    "print(\"Generated observations:\",X_gen.flatten()) # Last Layer\n",
    "print(\"Generated hidden states:\",Z_gen) # Hidden Layer"
   ]
  },
  {
   "cell_type": "code",
   "execution_count": 10,
   "id": "8173eab6",
   "metadata": {
    "execution": {
     "iopub.execute_input": "2025-08-17T10:02:25.498762Z",
     "iopub.status.busy": "2025-08-17T10:02:25.498409Z",
     "iopub.status.idle": "2025-08-17T10:02:25.503786Z",
     "shell.execute_reply": "2025-08-17T10:02:25.502911Z"
    },
    "papermill": {
     "duration": 0.010973,
     "end_time": "2025-08-17T10:02:25.505277",
     "exception": false,
     "start_time": "2025-08-17T10:02:25.494304",
     "status": "completed"
    },
    "tags": []
   },
   "outputs": [
    {
     "data": {
      "text/plain": [
       "1"
      ]
     },
     "execution_count": 10,
     "metadata": {},
     "output_type": "execute_result"
    }
   ],
   "source": [
    "1"
   ]
  }
 ],
 "metadata": {
  "kaggle": {
   "accelerator": "none",
   "dataSources": [],
   "dockerImageVersionId": 31089,
   "isGpuEnabled": false,
   "isInternetEnabled": true,
   "language": "python",
   "sourceType": "notebook"
  },
  "kernelspec": {
   "display_name": "Python 3",
   "language": "python",
   "name": "python3"
  },
  "language_info": {
   "codemirror_mode": {
    "name": "ipython",
    "version": 3
   },
   "file_extension": ".py",
   "mimetype": "text/x-python",
   "name": "python",
   "nbconvert_exporter": "python",
   "pygments_lexer": "ipython3",
   "version": "3.11.13"
  },
  "papermill": {
   "default_parameters": {},
   "duration": 12.739604,
   "end_time": "2025-08-17T10:02:26.027551",
   "environment_variables": {},
   "exception": null,
   "input_path": "__notebook__.ipynb",
   "output_path": "__notebook__.ipynb",
   "parameters": {},
   "start_time": "2025-08-17T10:02:13.287947",
   "version": "2.6.0"
  }
 },
 "nbformat": 4,
 "nbformat_minor": 5
}
