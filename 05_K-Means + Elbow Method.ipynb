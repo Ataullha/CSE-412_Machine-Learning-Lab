{
 "cells": [
  {
   "cell_type": "code",
   "execution_count": 1,
   "id": "6624d70b",
   "metadata": {
    "_cell_guid": "b1076dfc-b9ad-4769-8c92-a6c4dae69d19",
    "_uuid": "8f2839f25d086af736a60e9eeb907d3b93b6e0e5",
    "execution": {
     "iopub.execute_input": "2025-07-16T10:17:12.784915Z",
     "iopub.status.busy": "2025-07-16T10:17:12.784594Z",
     "iopub.status.idle": "2025-07-16T10:17:14.570676Z",
     "shell.execute_reply": "2025-07-16T10:17:14.569856Z"
    },
    "papermill": {
     "duration": 1.794286,
     "end_time": "2025-07-16T10:17:14.572285",
     "exception": false,
     "start_time": "2025-07-16T10:17:12.777999",
     "status": "completed"
    },
    "tags": []
   },
   "outputs": [],
   "source": [
    "import pandas as pd\n",
    "import warnings\n",
    "\n",
    "warnings.simplefilter(\"ignore\")"
   ]
  },
  {
   "cell_type": "code",
   "execution_count": 2,
   "id": "7d355346",
   "metadata": {
    "execution": {
     "iopub.execute_input": "2025-07-16T10:17:14.584396Z",
     "iopub.status.busy": "2025-07-16T10:17:14.583992Z",
     "iopub.status.idle": "2025-07-16T10:17:14.588385Z",
     "shell.execute_reply": "2025-07-16T10:17:14.587546Z"
    },
    "papermill": {
     "duration": 0.012272,
     "end_time": "2025-07-16T10:17:14.589846",
     "exception": false,
     "start_time": "2025-07-16T10:17:14.577574",
     "status": "completed"
    },
    "tags": []
   },
   "outputs": [],
   "source": [
    "# !git clone https://github.com/Ataullha/Demo-Dataset"
   ]
  },
  {
   "cell_type": "markdown",
   "id": "04d8ae3b",
   "metadata": {
    "papermill": {
     "duration": 0.004905,
     "end_time": "2025-07-16T10:17:14.599725",
     "exception": false,
     "start_time": "2025-07-16T10:17:14.594820",
     "status": "completed"
    },
    "tags": []
   },
   "source": [
    "# Dataset"
   ]
  },
  {
   "cell_type": "code",
   "execution_count": 3,
   "id": "993c37b5",
   "metadata": {
    "execution": {
     "iopub.execute_input": "2025-07-16T10:17:14.610343Z",
     "iopub.status.busy": "2025-07-16T10:17:14.610029Z",
     "iopub.status.idle": "2025-07-16T10:17:14.632522Z",
     "shell.execute_reply": "2025-07-16T10:17:14.631744Z"
    },
    "papermill": {
     "duration": 0.029711,
     "end_time": "2025-07-16T10:17:14.634106",
     "exception": false,
     "start_time": "2025-07-16T10:17:14.604395",
     "status": "completed"
    },
    "tags": []
   },
   "outputs": [],
   "source": [
    "df = pd.read_csv('/kaggle/input/k-means/income.csv')"
   ]
  },
  {
   "cell_type": "code",
   "execution_count": 4,
   "id": "11c28edd",
   "metadata": {
    "execution": {
     "iopub.execute_input": "2025-07-16T10:17:14.645459Z",
     "iopub.status.busy": "2025-07-16T10:17:14.645152Z",
     "iopub.status.idle": "2025-07-16T10:17:14.667582Z",
     "shell.execute_reply": "2025-07-16T10:17:14.666797Z"
    },
    "papermill": {
     "duration": 0.029926,
     "end_time": "2025-07-16T10:17:14.669199",
     "exception": false,
     "start_time": "2025-07-16T10:17:14.639273",
     "status": "completed"
    },
    "tags": []
   },
   "outputs": [
    {
     "data": {
      "text/html": [
       "<div>\n",
       "<style scoped>\n",
       "    .dataframe tbody tr th:only-of-type {\n",
       "        vertical-align: middle;\n",
       "    }\n",
       "\n",
       "    .dataframe tbody tr th {\n",
       "        vertical-align: top;\n",
       "    }\n",
       "\n",
       "    .dataframe thead th {\n",
       "        text-align: right;\n",
       "    }\n",
       "</style>\n",
       "<table border=\"1\" class=\"dataframe\">\n",
       "  <thead>\n",
       "    <tr style=\"text-align: right;\">\n",
       "      <th></th>\n",
       "      <th>Name</th>\n",
       "      <th>Age</th>\n",
       "      <th>Income($)</th>\n",
       "    </tr>\n",
       "  </thead>\n",
       "  <tbody>\n",
       "    <tr>\n",
       "      <th>0</th>\n",
       "      <td>Rob</td>\n",
       "      <td>27</td>\n",
       "      <td>70000</td>\n",
       "    </tr>\n",
       "    <tr>\n",
       "      <th>1</th>\n",
       "      <td>Michael</td>\n",
       "      <td>29</td>\n",
       "      <td>90000</td>\n",
       "    </tr>\n",
       "    <tr>\n",
       "      <th>2</th>\n",
       "      <td>Mohan</td>\n",
       "      <td>29</td>\n",
       "      <td>61000</td>\n",
       "    </tr>\n",
       "    <tr>\n",
       "      <th>3</th>\n",
       "      <td>Ismail</td>\n",
       "      <td>28</td>\n",
       "      <td>60000</td>\n",
       "    </tr>\n",
       "    <tr>\n",
       "      <th>4</th>\n",
       "      <td>Kory</td>\n",
       "      <td>42</td>\n",
       "      <td>150000</td>\n",
       "    </tr>\n",
       "  </tbody>\n",
       "</table>\n",
       "</div>"
      ],
      "text/plain": [
       "      Name  Age  Income($)\n",
       "0      Rob   27      70000\n",
       "1  Michael   29      90000\n",
       "2    Mohan   29      61000\n",
       "3   Ismail   28      60000\n",
       "4     Kory   42     150000"
      ]
     },
     "execution_count": 4,
     "metadata": {},
     "output_type": "execute_result"
    }
   ],
   "source": [
    "df.head()"
   ]
  },
  {
   "cell_type": "markdown",
   "id": "b82a40e5",
   "metadata": {
    "papermill": {
     "duration": 0.005166,
     "end_time": "2025-07-16T10:17:14.679681",
     "exception": false,
     "start_time": "2025-07-16T10:17:14.674515",
     "status": "completed"
    },
    "tags": []
   },
   "source": [
    "# EDA"
   ]
  },
  {
   "cell_type": "code",
   "execution_count": 5,
   "id": "34996a85",
   "metadata": {
    "execution": {
     "iopub.execute_input": "2025-07-16T10:17:14.692772Z",
     "iopub.status.busy": "2025-07-16T10:17:14.691866Z",
     "iopub.status.idle": "2025-07-16T10:17:14.703911Z",
     "shell.execute_reply": "2025-07-16T10:17:14.702758Z"
    },
    "papermill": {
     "duration": 0.020664,
     "end_time": "2025-07-16T10:17:14.705503",
     "exception": false,
     "start_time": "2025-07-16T10:17:14.684839",
     "status": "completed"
    },
    "tags": []
   },
   "outputs": [],
   "source": [
    "df.drop('Name',axis=1,inplace=True)"
   ]
  },
  {
   "cell_type": "code",
   "execution_count": 6,
   "id": "74fc593b",
   "metadata": {
    "execution": {
     "iopub.execute_input": "2025-07-16T10:17:14.717577Z",
     "iopub.status.busy": "2025-07-16T10:17:14.717263Z",
     "iopub.status.idle": "2025-07-16T10:17:14.725920Z",
     "shell.execute_reply": "2025-07-16T10:17:14.724954Z"
    },
    "papermill": {
     "duration": 0.016359,
     "end_time": "2025-07-16T10:17:14.727399",
     "exception": false,
     "start_time": "2025-07-16T10:17:14.711040",
     "status": "completed"
    },
    "tags": []
   },
   "outputs": [
    {
     "data": {
      "text/html": [
       "<div>\n",
       "<style scoped>\n",
       "    .dataframe tbody tr th:only-of-type {\n",
       "        vertical-align: middle;\n",
       "    }\n",
       "\n",
       "    .dataframe tbody tr th {\n",
       "        vertical-align: top;\n",
       "    }\n",
       "\n",
       "    .dataframe thead th {\n",
       "        text-align: right;\n",
       "    }\n",
       "</style>\n",
       "<table border=\"1\" class=\"dataframe\">\n",
       "  <thead>\n",
       "    <tr style=\"text-align: right;\">\n",
       "      <th></th>\n",
       "      <th>Age</th>\n",
       "      <th>Income($)</th>\n",
       "    </tr>\n",
       "  </thead>\n",
       "  <tbody>\n",
       "    <tr>\n",
       "      <th>0</th>\n",
       "      <td>27</td>\n",
       "      <td>70000</td>\n",
       "    </tr>\n",
       "    <tr>\n",
       "      <th>1</th>\n",
       "      <td>29</td>\n",
       "      <td>90000</td>\n",
       "    </tr>\n",
       "    <tr>\n",
       "      <th>2</th>\n",
       "      <td>29</td>\n",
       "      <td>61000</td>\n",
       "    </tr>\n",
       "    <tr>\n",
       "      <th>3</th>\n",
       "      <td>28</td>\n",
       "      <td>60000</td>\n",
       "    </tr>\n",
       "    <tr>\n",
       "      <th>4</th>\n",
       "      <td>42</td>\n",
       "      <td>150000</td>\n",
       "    </tr>\n",
       "  </tbody>\n",
       "</table>\n",
       "</div>"
      ],
      "text/plain": [
       "   Age  Income($)\n",
       "0   27      70000\n",
       "1   29      90000\n",
       "2   29      61000\n",
       "3   28      60000\n",
       "4   42     150000"
      ]
     },
     "execution_count": 6,
     "metadata": {},
     "output_type": "execute_result"
    }
   ],
   "source": [
    "df.head()"
   ]
  },
  {
   "cell_type": "code",
   "execution_count": 7,
   "id": "8e593734",
   "metadata": {
    "execution": {
     "iopub.execute_input": "2025-07-16T10:17:14.738524Z",
     "iopub.status.busy": "2025-07-16T10:17:14.738235Z",
     "iopub.status.idle": "2025-07-16T10:17:14.751616Z",
     "shell.execute_reply": "2025-07-16T10:17:14.750824Z"
    },
    "papermill": {
     "duration": 0.020546,
     "end_time": "2025-07-16T10:17:14.753125",
     "exception": false,
     "start_time": "2025-07-16T10:17:14.732579",
     "status": "completed"
    },
    "tags": []
   },
   "outputs": [
    {
     "data": {
      "text/plain": [
       "Age          0\n",
       "Income($)    0\n",
       "dtype: int64"
      ]
     },
     "execution_count": 7,
     "metadata": {},
     "output_type": "execute_result"
    }
   ],
   "source": [
    "df.isnull().sum()"
   ]
  },
  {
   "cell_type": "markdown",
   "id": "44b71a7b",
   "metadata": {
    "papermill": {
     "duration": 0.004893,
     "end_time": "2025-07-16T10:17:14.763683",
     "exception": false,
     "start_time": "2025-07-16T10:17:14.758790",
     "status": "completed"
    },
    "tags": []
   },
   "source": [
    "# Preprocessing"
   ]
  },
  {
   "cell_type": "code",
   "execution_count": 8,
   "id": "f81cfe8b",
   "metadata": {
    "execution": {
     "iopub.execute_input": "2025-07-16T10:17:14.775556Z",
     "iopub.status.busy": "2025-07-16T10:17:14.774939Z",
     "iopub.status.idle": "2025-07-16T10:17:14.781266Z",
     "shell.execute_reply": "2025-07-16T10:17:14.780432Z"
    },
    "papermill": {
     "duration": 0.013933,
     "end_time": "2025-07-16T10:17:14.782952",
     "exception": false,
     "start_time": "2025-07-16T10:17:14.769019",
     "status": "completed"
    },
    "tags": []
   },
   "outputs": [],
   "source": [
    "# normalization\n",
    "df = (df-df.min())/(df.max()-df.min())"
   ]
  },
  {
   "cell_type": "markdown",
   "id": "450f56d9",
   "metadata": {
    "papermill": {
     "duration": 0.004783,
     "end_time": "2025-07-16T10:17:14.793180",
     "exception": false,
     "start_time": "2025-07-16T10:17:14.788397",
     "status": "completed"
    },
    "tags": []
   },
   "source": [
    "# Visualization"
   ]
  },
  {
   "cell_type": "code",
   "execution_count": 9,
   "id": "a4e94581",
   "metadata": {
    "execution": {
     "iopub.execute_input": "2025-07-16T10:17:14.804596Z",
     "iopub.status.busy": "2025-07-16T10:17:14.804316Z",
     "iopub.status.idle": "2025-07-16T10:17:14.808227Z",
     "shell.execute_reply": "2025-07-16T10:17:14.807399Z"
    },
    "papermill": {
     "duration": 0.011124,
     "end_time": "2025-07-16T10:17:14.809624",
     "exception": false,
     "start_time": "2025-07-16T10:17:14.798500",
     "status": "completed"
    },
    "tags": []
   },
   "outputs": [],
   "source": [
    "import matplotlib.pyplot as plt"
   ]
  },
  {
   "cell_type": "code",
   "execution_count": 10,
   "id": "ecc064a9",
   "metadata": {
    "execution": {
     "iopub.execute_input": "2025-07-16T10:17:14.821334Z",
     "iopub.status.busy": "2025-07-16T10:17:14.821051Z",
     "iopub.status.idle": "2025-07-16T10:17:15.102506Z",
     "shell.execute_reply": "2025-07-16T10:17:15.101608Z"
    },
    "papermill": {
     "duration": 0.289098,
     "end_time": "2025-07-16T10:17:15.104004",
     "exception": false,
     "start_time": "2025-07-16T10:17:14.814906",
     "status": "completed"
    },
    "tags": []
   },
   "outputs": [
    {
     "data": {
      "image/png": "[encoded data removed]",
      "text/plain": [
       "<Figure size 640x480 with 1 Axes>"
      ]
     },
     "metadata": {},
     "output_type": "display_data"
    }
   ],
   "source": [
    "plt.scatter(df['Age'],df['Income($)'],marker='x')\n",
    "plt.show()"
   ]
  },
  {
   "cell_type": "markdown",
   "id": "d1db8866",
   "metadata": {
    "papermill": {
     "duration": 0.005053,
     "end_time": "2025-07-16T10:17:15.115388",
     "exception": false,
     "start_time": "2025-07-16T10:17:15.110335",
     "status": "completed"
    },
    "tags": []
   },
   "source": [
    "# K-Means Clustering"
   ]
  },
  {
   "cell_type": "code",
   "execution_count": 11,
   "id": "53d4f91d",
   "metadata": {
    "execution": {
     "iopub.execute_input": "2025-07-16T10:17:15.127606Z",
     "iopub.status.busy": "2025-07-16T10:17:15.126987Z",
     "iopub.status.idle": "2025-07-16T10:17:17.136605Z",
     "shell.execute_reply": "2025-07-16T10:17:17.135781Z"
    },
    "papermill": {
     "duration": 2.017578,
     "end_time": "2025-07-16T10:17:17.138435",
     "exception": false,
     "start_time": "2025-07-16T10:17:15.120857",
     "status": "completed"
    },
    "tags": []
   },
   "outputs": [],
   "source": [
    "from sklearn.cluster import KMeans"
   ]
  },
  {
   "cell_type": "code",
   "execution_count": 12,
   "id": "b84d70a2",
   "metadata": {
    "execution": {
     "iopub.execute_input": "2025-07-16T10:17:17.150842Z",
     "iopub.status.busy": "2025-07-16T10:17:17.150406Z",
     "iopub.status.idle": "2025-07-16T10:17:17.154387Z",
     "shell.execute_reply": "2025-07-16T10:17:17.153749Z"
    },
    "papermill": {
     "duration": 0.011342,
     "end_time": "2025-07-16T10:17:17.155561",
     "exception": false,
     "start_time": "2025-07-16T10:17:17.144219",
     "status": "completed"
    },
    "tags": []
   },
   "outputs": [],
   "source": [
    "km = KMeans(n_clusters=3, random_state=81)"
   ]
  },
  {
   "cell_type": "code",
   "execution_count": 13,
   "id": "389af45a",
   "metadata": {
    "execution": {
     "iopub.execute_input": "2025-07-16T10:17:17.167392Z",
     "iopub.status.busy": "2025-07-16T10:17:17.167083Z",
     "iopub.status.idle": "2025-07-16T10:17:17.170722Z",
     "shell.execute_reply": "2025-07-16T10:17:17.169918Z"
    },
    "papermill": {
     "duration": 0.011193,
     "end_time": "2025-07-16T10:17:17.172187",
     "exception": false,
     "start_time": "2025-07-16T10:17:17.160994",
     "status": "completed"
    },
    "tags": []
   },
   "outputs": [],
   "source": [
    "# km.fit(df)\n",
    "# km.predict(df)"
   ]
  },
  {
   "cell_type": "code",
   "execution_count": 14,
   "id": "03864b58",
   "metadata": {
    "execution": {
     "iopub.execute_input": "2025-07-16T10:17:17.183925Z",
     "iopub.status.busy": "2025-07-16T10:17:17.183603Z",
     "iopub.status.idle": "2025-07-16T10:17:17.247826Z",
     "shell.execute_reply": "2025-07-16T10:17:17.247049Z"
    },
    "papermill": {
     "duration": 0.072187,
     "end_time": "2025-07-16T10:17:17.249797",
     "exception": false,
     "start_time": "2025-07-16T10:17:17.177610",
     "status": "completed"
    },
    "tags": []
   },
   "outputs": [],
   "source": [
    "cluster_label = km.fit_predict(df)"
   ]
  },
  {
   "cell_type": "code",
   "execution_count": 15,
   "id": "407fa09b",
   "metadata": {
    "execution": {
     "iopub.execute_input": "2025-07-16T10:17:17.261916Z",
     "iopub.status.busy": "2025-07-16T10:17:17.261575Z",
     "iopub.status.idle": "2025-07-16T10:17:17.266036Z",
     "shell.execute_reply": "2025-07-16T10:17:17.265398Z"
    },
    "papermill": {
     "duration": 0.011864,
     "end_time": "2025-07-16T10:17:17.267305",
     "exception": false,
     "start_time": "2025-07-16T10:17:17.255441",
     "status": "completed"
    },
    "tags": []
   },
   "outputs": [],
   "source": [
    "df['cluster'] = cluster_label"
   ]
  },
  {
   "cell_type": "code",
   "execution_count": 16,
   "id": "a11e1608",
   "metadata": {
    "execution": {
     "iopub.execute_input": "2025-07-16T10:17:17.279577Z",
     "iopub.status.busy": "2025-07-16T10:17:17.278579Z",
     "iopub.status.idle": "2025-07-16T10:17:17.288315Z",
     "shell.execute_reply": "2025-07-16T10:17:17.287483Z"
    },
    "papermill": {
     "duration": 0.01729,
     "end_time": "2025-07-16T10:17:17.289754",
     "exception": false,
     "start_time": "2025-07-16T10:17:17.272464",
     "status": "completed"
    },
    "tags": []
   },
   "outputs": [
    {
     "data": {
      "text/html": [
       "<div>\n",
       "<style scoped>\n",
       "    .dataframe tbody tr th:only-of-type {\n",
       "        vertical-align: middle;\n",
       "    }\n",
       "\n",
       "    .dataframe tbody tr th {\n",
       "        vertical-align: top;\n",
       "    }\n",
       "\n",
       "    .dataframe thead th {\n",
       "        text-align: right;\n",
       "    }\n",
       "</style>\n",
       "<table border=\"1\" class=\"dataframe\">\n",
       "  <thead>\n",
       "    <tr style=\"text-align: right;\">\n",
       "      <th></th>\n",
       "      <th>Age</th>\n",
       "      <th>Income($)</th>\n",
       "      <th>cluster</th>\n",
       "    </tr>\n",
       "  </thead>\n",
       "  <tbody>\n",
       "    <tr>\n",
       "      <th>0</th>\n",
       "      <td>0.058824</td>\n",
       "      <td>0.213675</td>\n",
       "      <td>0</td>\n",
       "    </tr>\n",
       "    <tr>\n",
       "      <th>1</th>\n",
       "      <td>0.176471</td>\n",
       "      <td>0.384615</td>\n",
       "      <td>0</td>\n",
       "    </tr>\n",
       "    <tr>\n",
       "      <th>2</th>\n",
       "      <td>0.176471</td>\n",
       "      <td>0.136752</td>\n",
       "      <td>0</td>\n",
       "    </tr>\n",
       "    <tr>\n",
       "      <th>3</th>\n",
       "      <td>0.117647</td>\n",
       "      <td>0.128205</td>\n",
       "      <td>0</td>\n",
       "    </tr>\n",
       "    <tr>\n",
       "      <th>4</th>\n",
       "      <td>0.941176</td>\n",
       "      <td>0.897436</td>\n",
       "      <td>1</td>\n",
       "    </tr>\n",
       "    <tr>\n",
       "      <th>5</th>\n",
       "      <td>0.764706</td>\n",
       "      <td>0.940171</td>\n",
       "      <td>1</td>\n",
       "    </tr>\n",
       "    <tr>\n",
       "      <th>6</th>\n",
       "      <td>0.882353</td>\n",
       "      <td>0.982906</td>\n",
       "      <td>1</td>\n",
       "    </tr>\n",
       "    <tr>\n",
       "      <th>7</th>\n",
       "      <td>0.705882</td>\n",
       "      <td>1.000000</td>\n",
       "      <td>1</td>\n",
       "    </tr>\n",
       "    <tr>\n",
       "      <th>8</th>\n",
       "      <td>0.588235</td>\n",
       "      <td>0.948718</td>\n",
       "      <td>1</td>\n",
       "    </tr>\n",
       "    <tr>\n",
       "      <th>9</th>\n",
       "      <td>0.529412</td>\n",
       "      <td>0.726496</td>\n",
       "      <td>1</td>\n",
       "    </tr>\n",
       "    <tr>\n",
       "      <th>10</th>\n",
       "      <td>0.647059</td>\n",
       "      <td>0.786325</td>\n",
       "      <td>1</td>\n",
       "    </tr>\n",
       "    <tr>\n",
       "      <th>11</th>\n",
       "      <td>0.000000</td>\n",
       "      <td>0.000000</td>\n",
       "      <td>0</td>\n",
       "    </tr>\n",
       "    <tr>\n",
       "      <th>12</th>\n",
       "      <td>0.058824</td>\n",
       "      <td>0.025641</td>\n",
       "      <td>0</td>\n",
       "    </tr>\n",
       "    <tr>\n",
       "      <th>13</th>\n",
       "      <td>0.117647</td>\n",
       "      <td>0.051282</td>\n",
       "      <td>0</td>\n",
       "    </tr>\n",
       "    <tr>\n",
       "      <th>14</th>\n",
       "      <td>0.176471</td>\n",
       "      <td>0.038462</td>\n",
       "      <td>0</td>\n",
       "    </tr>\n",
       "    <tr>\n",
       "      <th>15</th>\n",
       "      <td>0.352941</td>\n",
       "      <td>0.068376</td>\n",
       "      <td>0</td>\n",
       "    </tr>\n",
       "    <tr>\n",
       "      <th>16</th>\n",
       "      <td>0.823529</td>\n",
       "      <td>0.170940</td>\n",
       "      <td>2</td>\n",
       "    </tr>\n",
       "    <tr>\n",
       "      <th>17</th>\n",
       "      <td>0.882353</td>\n",
       "      <td>0.153846</td>\n",
       "      <td>2</td>\n",
       "    </tr>\n",
       "    <tr>\n",
       "      <th>18</th>\n",
       "      <td>1.000000</td>\n",
       "      <td>0.162393</td>\n",
       "      <td>2</td>\n",
       "    </tr>\n",
       "    <tr>\n",
       "      <th>19</th>\n",
       "      <td>0.764706</td>\n",
       "      <td>0.299145</td>\n",
       "      <td>2</td>\n",
       "    </tr>\n",
       "    <tr>\n",
       "      <th>20</th>\n",
       "      <td>0.882353</td>\n",
       "      <td>0.316239</td>\n",
       "      <td>2</td>\n",
       "    </tr>\n",
       "    <tr>\n",
       "      <th>21</th>\n",
       "      <td>0.764706</td>\n",
       "      <td>0.111111</td>\n",
       "      <td>2</td>\n",
       "    </tr>\n",
       "  </tbody>\n",
       "</table>\n",
       "</div>"
      ],
      "text/plain": [
       "         Age  Income($)  cluster\n",
       "0   0.058824   0.213675        0\n",
       "1   0.176471   0.384615        0\n",
       "2   0.176471   0.136752        0\n",
       "3   0.117647   0.128205        0\n",
       "4   0.941176   0.897436        1\n",
       "5   0.764706   0.940171        1\n",
       "6   0.882353   0.982906        1\n",
       "7   0.705882   1.000000        1\n",
       "8   0.588235   0.948718        1\n",
       "9   0.529412   0.726496        1\n",
       "10  0.647059   0.786325        1\n",
       "11  0.000000   0.000000        0\n",
       "12  0.058824   0.025641        0\n",
       "13  0.117647   0.051282        0\n",
       "14  0.176471   0.038462        0\n",
       "15  0.352941   0.068376        0\n",
       "16  0.823529   0.170940        2\n",
       "17  0.882353   0.153846        2\n",
       "18  1.000000   0.162393        2\n",
       "19  0.764706   0.299145        2\n",
       "20  0.882353   0.316239        2\n",
       "21  0.764706   0.111111        2"
      ]
     },
     "execution_count": 16,
     "metadata": {},
     "output_type": "execute_result"
    }
   ],
   "source": [
    "df"
   ]
  },
  {
   "cell_type": "code",
   "execution_count": 17,
   "id": "d6e1b1fd",
   "metadata": {
    "execution": {
     "iopub.execute_input": "2025-07-16T10:17:17.302256Z",
     "iopub.status.busy": "2025-07-16T10:17:17.301926Z",
     "iopub.status.idle": "2025-07-16T10:17:17.310303Z",
     "shell.execute_reply": "2025-07-16T10:17:17.309447Z"
    },
    "papermill": {
     "duration": 0.015891,
     "end_time": "2025-07-16T10:17:17.311685",
     "exception": false,
     "start_time": "2025-07-16T10:17:17.295794",
     "status": "completed"
    },
    "tags": []
   },
   "outputs": [],
   "source": [
    "df_0 = df[df['cluster']==0]\n",
    "df_1 = df[df['cluster']==1]\n",
    "df_2 = df[df['cluster']==2]"
   ]
  },
  {
   "cell_type": "code",
   "execution_count": 18,
   "id": "b4727795",
   "metadata": {
    "execution": {
     "iopub.execute_input": "2025-07-16T10:17:17.324287Z",
     "iopub.status.busy": "2025-07-16T10:17:17.323528Z",
     "iopub.status.idle": "2025-07-16T10:17:17.327610Z",
     "shell.execute_reply": "2025-07-16T10:17:17.326682Z"
    },
    "papermill": {
     "duration": 0.011798,
     "end_time": "2025-07-16T10:17:17.329046",
     "exception": false,
     "start_time": "2025-07-16T10:17:17.317248",
     "status": "completed"
    },
    "tags": []
   },
   "outputs": [],
   "source": [
    "km_center = km.cluster_centers_"
   ]
  },
  {
   "cell_type": "code",
   "execution_count": 19,
   "id": "e0c0709f",
   "metadata": {
    "execution": {
     "iopub.execute_input": "2025-07-16T10:17:17.341095Z",
     "iopub.status.busy": "2025-07-16T10:17:17.340791Z",
     "iopub.status.idle": "2025-07-16T10:17:17.346990Z",
     "shell.execute_reply": "2025-07-16T10:17:17.346083Z"
    },
    "papermill": {
     "duration": 0.014085,
     "end_time": "2025-07-16T10:17:17.348534",
     "exception": false,
     "start_time": "2025-07-16T10:17:17.334449",
     "status": "completed"
    },
    "tags": []
   },
   "outputs": [
    {
     "name": "stdout",
     "output_type": "stream",
     "text": [
      "[0.1372549  0.11633428]\n",
      "[0.72268908 0.8974359 ]\n",
      "[0.85294118 0.2022792 ]\n",
      "[0.1372549  0.72268908 0.85294118]\n",
      "[0.11633428 0.8974359  0.2022792 ]\n"
     ]
    }
   ],
   "source": [
    "print(km_center[0])\n",
    "print(km_center[1])\n",
    "print(km_center[2])\n",
    "\n",
    "print(km_center[:,0])\n",
    "print(km_center[:,1])"
   ]
  },
  {
   "cell_type": "code",
   "execution_count": 20,
   "id": "350cc202",
   "metadata": {
    "execution": {
     "iopub.execute_input": "2025-07-16T10:17:17.361458Z",
     "iopub.status.busy": "2025-07-16T10:17:17.361146Z",
     "iopub.status.idle": "2025-07-16T10:17:17.533123Z",
     "shell.execute_reply": "2025-07-16T10:17:17.532130Z"
    },
    "papermill": {
     "duration": 0.180033,
     "end_time": "2025-07-16T10:17:17.534761",
     "exception": false,
     "start_time": "2025-07-16T10:17:17.354728",
     "status": "completed"
    },
    "tags": []
   },
   "outputs": [
    {
     "data": {
      "text/plain": [
       "<matplotlib.collections.PathCollection at 0x78fb9b034650>"
      ]
     },
     "execution_count": 20,
     "metadata": {},
     "output_type": "execute_result"
    },
    {
     "data": {
      "image/png": "[encoded data removed]",
      "text/plain": [
       "<Figure size 640x480 with 1 Axes>"
      ]
     },
     "metadata": {},
     "output_type": "display_data"
    }
   ],
   "source": [
    "plt.scatter(df_0['Age'],df_0['Income($)'], marker='x', color='red')\n",
    "plt.scatter(df_1['Age'],df_1['Income($)'], marker='x', color='blue')\n",
    "plt.scatter(df_2['Age'],df_2['Income($)'], marker='x', color='green')\n",
    "plt.scatter(km_center[:,0],km_center[:,1], marker='*', color='black')"
   ]
  },
  {
   "cell_type": "markdown",
   "id": "110c6d19",
   "metadata": {
    "papermill": {
     "duration": 0.007392,
     "end_time": "2025-07-16T10:17:17.548245",
     "exception": false,
     "start_time": "2025-07-16T10:17:17.540853",
     "status": "completed"
    },
    "tags": []
   },
   "source": [
    "[](http://)"
   ]
  },
  {
   "cell_type": "code",
   "execution_count": 21,
   "id": "324efa98",
   "metadata": {
    "execution": {
     "iopub.execute_input": "2025-07-16T10:17:17.561061Z",
     "iopub.status.busy": "2025-07-16T10:17:17.560749Z",
     "iopub.status.idle": "2025-07-16T10:17:17.566141Z",
     "shell.execute_reply": "2025-07-16T10:17:17.565286Z"
    },
    "papermill": {
     "duration": 0.013425,
     "end_time": "2025-07-16T10:17:17.567531",
     "exception": false,
     "start_time": "2025-07-16T10:17:17.554106",
     "status": "completed"
    },
    "tags": []
   },
   "outputs": [
    {
     "data": {
      "text/plain": [
       "0.4750783498553094"
      ]
     },
     "execution_count": 21,
     "metadata": {},
     "output_type": "execute_result"
    }
   ],
   "source": [
    "km.inertia_ # k = 3"
   ]
  },
  {
   "cell_type": "markdown",
   "id": "e25f9603",
   "metadata": {
    "papermill": {
     "duration": 0.005489,
     "end_time": "2025-07-16T10:17:17.578961",
     "exception": false,
     "start_time": "2025-07-16T10:17:17.573472",
     "status": "completed"
    },
    "tags": []
   },
   "source": [
    "# Elbow Method"
   ]
  },
  {
   "cell_type": "code",
   "execution_count": 22,
   "id": "cbc88097",
   "metadata": {
    "execution": {
     "iopub.execute_input": "2025-07-16T10:17:17.591714Z",
     "iopub.status.busy": "2025-07-16T10:17:17.591390Z",
     "iopub.status.idle": "2025-07-16T10:17:17.703893Z",
     "shell.execute_reply": "2025-07-16T10:17:17.703222Z"
    },
    "papermill": {
     "duration": 0.120802,
     "end_time": "2025-07-16T10:17:17.705575",
     "exception": false,
     "start_time": "2025-07-16T10:17:17.584773",
     "status": "completed"
    },
    "tags": []
   },
   "outputs": [],
   "source": [
    "sse = []\n",
    "\n",
    "for k in range(1,10):\n",
    "    km = KMeans(n_clusters=k)\n",
    "    km.fit_predict(df[['Age','Income($)']])\n",
    "    sse.append(km.inertia_)"
   ]
  },
  {
   "cell_type": "code",
   "execution_count": 23,
   "id": "420c65a8",
   "metadata": {
    "execution": {
     "iopub.execute_input": "2025-07-16T10:17:17.719134Z",
     "iopub.status.busy": "2025-07-16T10:17:17.718841Z",
     "iopub.status.idle": "2025-07-16T10:17:17.722194Z",
     "shell.execute_reply": "2025-07-16T10:17:17.721568Z"
    },
    "papermill": {
     "duration": 0.011387,
     "end_time": "2025-07-16T10:17:17.723459",
     "exception": false,
     "start_time": "2025-07-16T10:17:17.712072",
     "status": "completed"
    },
    "tags": []
   },
   "outputs": [],
   "source": [
    "# sse"
   ]
  },
  {
   "cell_type": "code",
   "execution_count": 24,
   "id": "00ee096c",
   "metadata": {
    "execution": {
     "iopub.execute_input": "2025-07-16T10:17:17.736176Z",
     "iopub.status.busy": "2025-07-16T10:17:17.735901Z",
     "iopub.status.idle": "2025-07-16T10:17:17.928165Z",
     "shell.execute_reply": "2025-07-16T10:17:17.927127Z"
    },
    "papermill": {
     "duration": 0.200571,
     "end_time": "2025-07-16T10:17:17.930054",
     "exception": false,
     "start_time": "2025-07-16T10:17:17.729483",
     "status": "completed"
    },
    "tags": []
   },
   "outputs": [
    {
     "data": {
      "text/plain": [
       "Text(0.5, 1.0, 'Elbow Method Plotting')"
      ]
     },
     "execution_count": 24,
     "metadata": {},
     "output_type": "execute_result"
    },
    {
     "data": {
      "image/png": "[encoded data removed]",
      "text/plain": [
       "<Figure size 640x480 with 1 Axes>"
      ]
     },
     "metadata": {},
     "output_type": "display_data"
    }
   ],
   "source": [
    "# plot the elbow\n",
    "plt.plot(range(1,10), sse)\n",
    "plt.xlabel('K')\n",
    "plt.ylabel('SSE')\n",
    "plt.title('Elbow Method Plotting')"
   ]
  },
  {
   "cell_type": "code",
   "execution_count": 25,
   "id": "b2d23a52",
   "metadata": {
    "execution": {
     "iopub.execute_input": "2025-07-16T10:17:17.944721Z",
     "iopub.status.busy": "2025-07-16T10:17:17.944415Z",
     "iopub.status.idle": "2025-07-16T10:17:17.949430Z",
     "shell.execute_reply": "2025-07-16T10:17:17.948688Z"
    },
    "papermill": {
     "duration": 0.013554,
     "end_time": "2025-07-16T10:17:17.950632",
     "exception": false,
     "start_time": "2025-07-16T10:17:17.937078",
     "status": "completed"
    },
    "tags": []
   },
   "outputs": [
    {
     "data": {
      "text/plain": [
       "1"
      ]
     },
     "execution_count": 25,
     "metadata": {},
     "output_type": "execute_result"
    }
   ],
   "source": [
    "1"
   ]
  }
 ],
 "metadata": {
  "kaggle": {
   "accelerator": "none",
   "dataSources": [
    {
     "datasetId": 7878382,
     "sourceId": 12485397,
     "sourceType": "datasetVersion"
    }
   ],
   "dockerImageVersionId": 31089,
   "isGpuEnabled": false,
   "isInternetEnabled": false,
   "language": "python",
   "sourceType": "notebook"
  },
  "kernelspec": {
   "display_name": "Python 3",
   "language": "python",
   "name": "python3"
  },
  "language_info": {
   "codemirror_mode": {
    "name": "ipython",
    "version": 3
   },
   "file_extension": ".py",
   "mimetype": "text/x-python",
   "name": "python",
   "nbconvert_exporter": "python",
   "pygments_lexer": "ipython3",
   "version": "3.11.13"
  },
  "papermill": {
   "default_parameters": {},
   "duration": 10.381116,
   "end_time": "2025-07-16T10:17:18.575952",
   "environment_variables": {},
   "exception": null,
   "input_path": "__notebook__.ipynb",
   "output_path": "__notebook__.ipynb",
   "parameters": {},
   "start_time": "2025-07-16T10:17:08.194836",
   "version": "2.6.0"
  }
 },
 "nbformat": 4,
 "nbformat_minor": 5
}
